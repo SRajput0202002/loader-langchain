{
  "cells": [
    {
      "cell_type": "markdown",
      "id": "31d9a4c9",
      "metadata": {
        "origin_pos": 0,
        "id": "31d9a4c9"
      },
      "source": [
        "# Using Jupyter Notebooks\n",
        ":label:`sec_jupyter`\n",
        "\n",
        "\n",
        "This section describes how to edit and run the code\n",
        "in each section of this book\n",
        "using the Jupyter Notebook. Make sure you have\n",
        "installed Jupyter and downloaded the\n",
        "code as described in\n",
        ":ref:`chap_installation`.\n",
        "If you want to know more about Jupyter see the excellent tutorial in\n",
        "their [documentation](https://jupyter.readthedocs.io/en/latest/).\n",
        "\n",
        "\n",
        "## Editing and Running the Code Locally\n",
        "\n",
        "Suppose that the local path of the book's code is `xx/yy/d2l-en/`. Use the shell to change the directory to this path (`cd xx/yy/d2l-en`) and run the command `jupyter notebook`. If your browser does not do this automatically, open http://localhost:8888 and you will see the interface of Jupyter and all the folders containing the code of the book, as shown in :numref:`fig_jupyter00`.\n",
        "\n",
        "![The folders containing the code of this book.](https://github.com/d2l-ai/d2l-en-colab/blob/master/img/jupyter00.png?raw=1)\n",
        ":width:`600px`\n",
        ":label:`fig_jupyter00`\n",
        "\n",
        "\n",
        "You can access the notebook files by clicking on the folder displayed on the webpage.\n",
        "They usually have the suffix \".ipynb\".\n",
        "For the sake of brevity, we create a temporary \"test.ipynb\" file.\n",
        "The content displayed after you click it is\n",
        "shown in :numref:`fig_jupyter01`.\n",
        "This notebook includes a markdown cell and a code cell. The content in the markdown cell includes \"This Is a Title\" and \"This is text.\".\n",
        "The code cell contains two lines of Python code.\n",
        "\n",
        "![Markdown and code cells in the \"text.ipynb\" file.](https://github.com/d2l-ai/d2l-en-colab/blob/master/img/jupyter01.png?raw=1)\n",
        ":width:`600px`\n",
        ":label:`fig_jupyter01`\n",
        "\n",
        "\n",
        "Double click on the markdown cell to enter edit mode.\n",
        "Add a new text string \"Hello world.\" at the end of the cell, as shown in :numref:`fig_jupyter02`.\n",
        "\n",
        "![Edit the markdown cell.](https://github.com/d2l-ai/d2l-en-colab/blob/master/img/jupyter02.png?raw=1)\n",
        ":width:`600px`\n",
        ":label:`fig_jupyter02`\n",
        "\n",
        "\n",
        "As demonstrated in :numref:`fig_jupyter03`,\n",
        "click \"Cell\" $\\rightarrow$ \"Run Cells\" in the menu bar to run the edited cell.\n",
        "\n",
        "![Run the cell.](https://github.com/d2l-ai/d2l-en-colab/blob/master/img/jupyter03.png?raw=1)\n",
        ":width:`600px`\n",
        ":label:`fig_jupyter03`\n",
        "\n",
        "After running, the markdown cell is shown in :numref:`fig_jupyter04`.\n",
        "\n",
        "![The markdown cell after running.](https://github.com/d2l-ai/d2l-en-colab/blob/master/img/jupyter04.png?raw=1)\n",
        ":width:`600px`\n",
        ":label:`fig_jupyter04`\n",
        "\n",
        "\n",
        "Next, click on the code cell. Multiply the elements by 2 after the last line of code, as shown in :numref:`fig_jupyter05`.\n",
        "\n",
        "![Edit the code cell.](https://github.com/d2l-ai/d2l-en-colab/blob/master/img/jupyter05.png?raw=1)\n",
        ":width:`600px`\n",
        ":label:`fig_jupyter05`\n",
        "\n",
        "\n",
        "You can also run the cell with a shortcut (\"Ctrl + Enter\" by default) and obtain the output result from :numref:`fig_jupyter06`.\n",
        "\n",
        "![Run the code cell to obtain the output.](https://github.com/d2l-ai/d2l-en-colab/blob/master/img/jupyter06.png?raw=1)\n",
        ":width:`600px`\n",
        ":label:`fig_jupyter06`\n",
        "\n",
        "\n",
        "When a notebook contains more cells, we can click \"Kernel\" $\\rightarrow$ \"Restart & Run All\" in the menu bar to run all the cells in the entire notebook. By clicking \"Help\" $\\rightarrow$ \"Edit Keyboard Shortcuts\" in the menu bar, you can edit the shortcuts according to your preferences.\n",
        "\n",
        "## Advanced Options\n",
        "\n",
        "Beyond local editing two things are quite important: editing the notebooks in the markdown format and running Jupyter remotely.\n",
        "The latter matters when we want to run the code on a faster server.\n",
        "The former matters since Jupyter's native ipynb format stores a lot of auxiliary data that is\n",
        "irrelevant to the content,\n",
        "mostly related to how and where the code is run.\n",
        "This is confusing for Git, making\n",
        "reviewing contributions very difficult.\n",
        "Fortunately there is an alternative---native editing in the markdown format.\n",
        "\n",
        "### Markdown Files in Jupyter\n",
        "\n",
        "If you wish to contribute to the content of this book, you need to modify the\n",
        "source file (md file, not ipynb file) on GitHub.\n",
        "Using the notedown plugin we\n",
        "can modify notebooks in the md format directly in Jupyter.\n",
        "\n",
        "\n",
        "First, install the notedown plugin, run the Jupyter Notebook, and load the plugin:\n",
        "\n",
        "```\n",
        "pip install d2l-notedown  # You may need to uninstall the original notedown.\n",
        "jupyter notebook --NotebookApp.contents_manager_class='notedown.NotedownContentsManager'\n",
        "```\n",
        "\n",
        "You may also turn on the notedown plugin by default whenever you run the Jupyter Notebook.\n",
        "First, generate a Jupyter Notebook configuration file (if it has already been generated, you can skip this step).\n",
        "\n",
        "```\n",
        "jupyter notebook --generate-config\n",
        "```\n",
        "\n",
        "Then, add the following line to the end of the Jupyter Notebook configuration file (for Linux or macOS, usually in the path `~/.jupyter/jupyter_notebook_config.py`):\n",
        "\n",
        "```\n",
        "c.NotebookApp.contents_manager_class = 'notedown.NotedownContentsManager'\n",
        "```\n",
        "\n",
        "After that, you only need to run the `jupyter notebook` command to turn on the notedown plugin by default.\n",
        "\n",
        "### Running Jupyter Notebooks on a Remote Server\n",
        "\n",
        "Sometimes, you may want to run Jupyter notebooks on a remote server and access it through a browser on your local computer. If Linux or macOS is installed on your local machine (Windows can also support this function through third-party software such as PuTTY), you can use port forwarding:\n",
        "\n",
        "```\n",
        "ssh myserver -L 8888:localhost:8888\n",
        "```\n",
        "\n",
        "The above string `myserver` is the address of the remote server.\n",
        "Then we can use http://localhost:8888 to access the remote server `myserver` that runs Jupyter notebooks. We will detail on how to run Jupyter notebooks on AWS instances\n",
        "later in this appendix.\n",
        "\n",
        "### Timing\n",
        "\n",
        "We can use the `ExecuteTime` plugin to time the execution of each code cell in Jupyter notebooks.\n",
        "Use the following commands to install the plugin:\n",
        "\n",
        "```\n",
        "pip install jupyter_contrib_nbextensions\n",
        "jupyter contrib nbextension install --user\n",
        "jupyter nbextension enable execute_time/ExecuteTime\n",
        "```\n",
        "\n",
        "## Summary\n",
        "\n",
        "* Using the Jupyter Notebook tool, we can edit, run, and contribute to each section of the book.\n",
        "* We can run Jupyter notebooks on remote servers using port forwarding.\n",
        "\n",
        "\n",
        "## Exercises\n",
        "\n",
        "1. Edit and run the code in this book with the Jupyter Notebook on your local machine.\n",
        "1. Edit and run the code in this book with the Jupyter Notebook *remotely* via port forwarding.\n",
        "1. Compare the running time of the operations $\\mathbf{A}^\\top \\mathbf{B}$ and $\\mathbf{A} \\mathbf{B}$ for two square matrices in $\\mathbb{R}^{1024 \\times 1024}$. Which one is faster?\n",
        "\n",
        "\n",
        "[Discussions](https://discuss.d2l.ai/t/421)\n"
      ]
    },
    {
      "cell_type": "code",
      "source": [
        "pip install langchain"
      ],
      "metadata": {
        "colab": {
          "base_uri": "https://localhost:8080/"
        },
        "id": "GSy7pQ-9a0vF",
        "outputId": "4ffbae62-8843-4b4d-e3f6-90eb380db231"
      },
      "id": "GSy7pQ-9a0vF",
      "execution_count": 1,
      "outputs": [
        {
          "output_type": "stream",
          "name": "stdout",
          "text": [
            "Requirement already satisfied: langchain in /usr/local/lib/python3.11/dist-packages (0.3.17)\n",
            "Requirement already satisfied: PyYAML>=5.3 in /usr/local/lib/python3.11/dist-packages (from langchain) (6.0.2)\n",
            "Requirement already satisfied: SQLAlchemy<3,>=1.4 in /usr/local/lib/python3.11/dist-packages (from langchain) (2.0.37)\n",
            "Requirement already satisfied: aiohttp<4.0.0,>=3.8.3 in /usr/local/lib/python3.11/dist-packages (from langchain) (3.11.12)\n",
            "Requirement already satisfied: langchain-core<0.4.0,>=0.3.33 in /usr/local/lib/python3.11/dist-packages (from langchain) (0.3.33)\n",
            "Requirement already satisfied: langchain-text-splitters<0.4.0,>=0.3.3 in /usr/local/lib/python3.11/dist-packages (from langchain) (0.3.5)\n",
            "Requirement already satisfied: langsmith<0.4,>=0.1.17 in /usr/local/lib/python3.11/dist-packages (from langchain) (0.3.6)\n",
            "Requirement already satisfied: numpy<2,>=1.22.4 in /usr/local/lib/python3.11/dist-packages (from langchain) (1.26.4)\n",
            "Requirement already satisfied: pydantic<3.0.0,>=2.7.4 in /usr/local/lib/python3.11/dist-packages (from langchain) (2.10.6)\n",
            "Requirement already satisfied: requests<3,>=2 in /usr/local/lib/python3.11/dist-packages (from langchain) (2.32.3)\n",
            "Requirement already satisfied: tenacity!=8.4.0,<10,>=8.1.0 in /usr/local/lib/python3.11/dist-packages (from langchain) (9.0.0)\n",
            "Requirement already satisfied: aiohappyeyeballs>=2.3.0 in /usr/local/lib/python3.11/dist-packages (from aiohttp<4.0.0,>=3.8.3->langchain) (2.4.4)\n",
            "Requirement already satisfied: aiosignal>=1.1.2 in /usr/local/lib/python3.11/dist-packages (from aiohttp<4.0.0,>=3.8.3->langchain) (1.3.2)\n",
            "Requirement already satisfied: attrs>=17.3.0 in /usr/local/lib/python3.11/dist-packages (from aiohttp<4.0.0,>=3.8.3->langchain) (25.1.0)\n",
            "Requirement already satisfied: frozenlist>=1.1.1 in /usr/local/lib/python3.11/dist-packages (from aiohttp<4.0.0,>=3.8.3->langchain) (1.5.0)\n",
            "Requirement already satisfied: multidict<7.0,>=4.5 in /usr/local/lib/python3.11/dist-packages (from aiohttp<4.0.0,>=3.8.3->langchain) (6.1.0)\n",
            "Requirement already satisfied: propcache>=0.2.0 in /usr/local/lib/python3.11/dist-packages (from aiohttp<4.0.0,>=3.8.3->langchain) (0.2.1)\n",
            "Requirement already satisfied: yarl<2.0,>=1.17.0 in /usr/local/lib/python3.11/dist-packages (from aiohttp<4.0.0,>=3.8.3->langchain) (1.18.3)\n",
            "Requirement already satisfied: jsonpatch<2.0,>=1.33 in /usr/local/lib/python3.11/dist-packages (from langchain-core<0.4.0,>=0.3.33->langchain) (1.33)\n",
            "Requirement already satisfied: packaging<25,>=23.2 in /usr/local/lib/python3.11/dist-packages (from langchain-core<0.4.0,>=0.3.33->langchain) (24.2)\n",
            "Requirement already satisfied: typing-extensions>=4.7 in /usr/local/lib/python3.11/dist-packages (from langchain-core<0.4.0,>=0.3.33->langchain) (4.12.2)\n",
            "Requirement already satisfied: httpx<1,>=0.23.0 in /usr/local/lib/python3.11/dist-packages (from langsmith<0.4,>=0.1.17->langchain) (0.28.1)\n",
            "Requirement already satisfied: orjson<4.0.0,>=3.9.14 in /usr/local/lib/python3.11/dist-packages (from langsmith<0.4,>=0.1.17->langchain) (3.10.15)\n",
            "Requirement already satisfied: requests-toolbelt<2.0.0,>=1.0.0 in /usr/local/lib/python3.11/dist-packages (from langsmith<0.4,>=0.1.17->langchain) (1.0.0)\n",
            "Requirement already satisfied: zstandard<0.24.0,>=0.23.0 in /usr/local/lib/python3.11/dist-packages (from langsmith<0.4,>=0.1.17->langchain) (0.23.0)\n",
            "Requirement already satisfied: annotated-types>=0.6.0 in /usr/local/lib/python3.11/dist-packages (from pydantic<3.0.0,>=2.7.4->langchain) (0.7.0)\n",
            "Requirement already satisfied: pydantic-core==2.27.2 in /usr/local/lib/python3.11/dist-packages (from pydantic<3.0.0,>=2.7.4->langchain) (2.27.2)\n",
            "Requirement already satisfied: charset-normalizer<4,>=2 in /usr/local/lib/python3.11/dist-packages (from requests<3,>=2->langchain) (3.4.1)\n",
            "Requirement already satisfied: idna<4,>=2.5 in /usr/local/lib/python3.11/dist-packages (from requests<3,>=2->langchain) (3.10)\n",
            "Requirement already satisfied: urllib3<3,>=1.21.1 in /usr/local/lib/python3.11/dist-packages (from requests<3,>=2->langchain) (2.3.0)\n",
            "Requirement already satisfied: certifi>=2017.4.17 in /usr/local/lib/python3.11/dist-packages (from requests<3,>=2->langchain) (2025.1.31)\n",
            "Requirement already satisfied: greenlet!=0.4.17 in /usr/local/lib/python3.11/dist-packages (from SQLAlchemy<3,>=1.4->langchain) (3.1.1)\n",
            "Requirement already satisfied: anyio in /usr/local/lib/python3.11/dist-packages (from httpx<1,>=0.23.0->langsmith<0.4,>=0.1.17->langchain) (3.7.1)\n",
            "Requirement already satisfied: httpcore==1.* in /usr/local/lib/python3.11/dist-packages (from httpx<1,>=0.23.0->langsmith<0.4,>=0.1.17->langchain) (1.0.7)\n",
            "Requirement already satisfied: h11<0.15,>=0.13 in /usr/local/lib/python3.11/dist-packages (from httpcore==1.*->httpx<1,>=0.23.0->langsmith<0.4,>=0.1.17->langchain) (0.14.0)\n",
            "Requirement already satisfied: jsonpointer>=1.9 in /usr/local/lib/python3.11/dist-packages (from jsonpatch<2.0,>=1.33->langchain-core<0.4.0,>=0.3.33->langchain) (3.0.0)\n",
            "Requirement already satisfied: sniffio>=1.1 in /usr/local/lib/python3.11/dist-packages (from anyio->httpx<1,>=0.23.0->langsmith<0.4,>=0.1.17->langchain) (1.3.1)\n"
          ]
        }
      ]
    },
    {
      "cell_type": "code",
      "source": [
        "pip install langchain_community\n"
      ],
      "metadata": {
        "colab": {
          "base_uri": "https://localhost:8080/"
        },
        "id": "8rCa2h-VbFIF",
        "outputId": "7b9c46b0-a76e-46b8-eebf-89e8bcd544ab"
      },
      "id": "8rCa2h-VbFIF",
      "execution_count": 2,
      "outputs": [
        {
          "output_type": "stream",
          "name": "stdout",
          "text": [
            "Collecting langchain_community\n",
            "  Downloading langchain_community-0.3.17-py3-none-any.whl.metadata (2.4 kB)\n",
            "Collecting langchain-core<1.0.0,>=0.3.34 (from langchain_community)\n",
            "  Downloading langchain_core-0.3.35-py3-none-any.whl.metadata (5.9 kB)\n",
            "Collecting langchain<1.0.0,>=0.3.18 (from langchain_community)\n",
            "  Downloading langchain-0.3.18-py3-none-any.whl.metadata (7.8 kB)\n",
            "Requirement already satisfied: SQLAlchemy<3,>=1.4 in /usr/local/lib/python3.11/dist-packages (from langchain_community) (2.0.37)\n",
            "Requirement already satisfied: requests<3,>=2 in /usr/local/lib/python3.11/dist-packages (from langchain_community) (2.32.3)\n",
            "Requirement already satisfied: PyYAML>=5.3 in /usr/local/lib/python3.11/dist-packages (from langchain_community) (6.0.2)\n",
            "Requirement already satisfied: aiohttp<4.0.0,>=3.8.3 in /usr/local/lib/python3.11/dist-packages (from langchain_community) (3.11.12)\n",
            "Requirement already satisfied: tenacity!=8.4.0,<10,>=8.1.0 in /usr/local/lib/python3.11/dist-packages (from langchain_community) (9.0.0)\n",
            "Collecting dataclasses-json<0.7,>=0.5.7 (from langchain_community)\n",
            "  Downloading dataclasses_json-0.6.7-py3-none-any.whl.metadata (25 kB)\n",
            "Collecting pydantic-settings<3.0.0,>=2.4.0 (from langchain_community)\n",
            "  Downloading pydantic_settings-2.7.1-py3-none-any.whl.metadata (3.5 kB)\n",
            "Requirement already satisfied: langsmith<0.4,>=0.1.125 in /usr/local/lib/python3.11/dist-packages (from langchain_community) (0.3.6)\n",
            "Collecting httpx-sse<1.0.0,>=0.4.0 (from langchain_community)\n",
            "  Downloading httpx_sse-0.4.0-py3-none-any.whl.metadata (9.0 kB)\n",
            "Requirement already satisfied: numpy<2,>=1.26.4 in /usr/local/lib/python3.11/dist-packages (from langchain_community) (1.26.4)\n",
            "Requirement already satisfied: aiohappyeyeballs>=2.3.0 in /usr/local/lib/python3.11/dist-packages (from aiohttp<4.0.0,>=3.8.3->langchain_community) (2.4.4)\n",
            "Requirement already satisfied: aiosignal>=1.1.2 in /usr/local/lib/python3.11/dist-packages (from aiohttp<4.0.0,>=3.8.3->langchain_community) (1.3.2)\n",
            "Requirement already satisfied: attrs>=17.3.0 in /usr/local/lib/python3.11/dist-packages (from aiohttp<4.0.0,>=3.8.3->langchain_community) (25.1.0)\n",
            "Requirement already satisfied: frozenlist>=1.1.1 in /usr/local/lib/python3.11/dist-packages (from aiohttp<4.0.0,>=3.8.3->langchain_community) (1.5.0)\n",
            "Requirement already satisfied: multidict<7.0,>=4.5 in /usr/local/lib/python3.11/dist-packages (from aiohttp<4.0.0,>=3.8.3->langchain_community) (6.1.0)\n",
            "Requirement already satisfied: propcache>=0.2.0 in /usr/local/lib/python3.11/dist-packages (from aiohttp<4.0.0,>=3.8.3->langchain_community) (0.2.1)\n",
            "Requirement already satisfied: yarl<2.0,>=1.17.0 in /usr/local/lib/python3.11/dist-packages (from aiohttp<4.0.0,>=3.8.3->langchain_community) (1.18.3)\n",
            "Collecting marshmallow<4.0.0,>=3.18.0 (from dataclasses-json<0.7,>=0.5.7->langchain_community)\n",
            "  Downloading marshmallow-3.26.1-py3-none-any.whl.metadata (7.3 kB)\n",
            "Collecting typing-inspect<1,>=0.4.0 (from dataclasses-json<0.7,>=0.5.7->langchain_community)\n",
            "  Downloading typing_inspect-0.9.0-py3-none-any.whl.metadata (1.5 kB)\n",
            "Collecting langchain-text-splitters<1.0.0,>=0.3.6 (from langchain<1.0.0,>=0.3.18->langchain_community)\n",
            "  Downloading langchain_text_splitters-0.3.6-py3-none-any.whl.metadata (1.9 kB)\n",
            "Requirement already satisfied: pydantic<3.0.0,>=2.7.4 in /usr/local/lib/python3.11/dist-packages (from langchain<1.0.0,>=0.3.18->langchain_community) (2.10.6)\n",
            "Requirement already satisfied: jsonpatch<2.0,>=1.33 in /usr/local/lib/python3.11/dist-packages (from langchain-core<1.0.0,>=0.3.34->langchain_community) (1.33)\n",
            "Requirement already satisfied: packaging<25,>=23.2 in /usr/local/lib/python3.11/dist-packages (from langchain-core<1.0.0,>=0.3.34->langchain_community) (24.2)\n",
            "Requirement already satisfied: typing-extensions>=4.7 in /usr/local/lib/python3.11/dist-packages (from langchain-core<1.0.0,>=0.3.34->langchain_community) (4.12.2)\n",
            "Requirement already satisfied: httpx<1,>=0.23.0 in /usr/local/lib/python3.11/dist-packages (from langsmith<0.4,>=0.1.125->langchain_community) (0.28.1)\n",
            "Requirement already satisfied: orjson<4.0.0,>=3.9.14 in /usr/local/lib/python3.11/dist-packages (from langsmith<0.4,>=0.1.125->langchain_community) (3.10.15)\n",
            "Requirement already satisfied: requests-toolbelt<2.0.0,>=1.0.0 in /usr/local/lib/python3.11/dist-packages (from langsmith<0.4,>=0.1.125->langchain_community) (1.0.0)\n",
            "Requirement already satisfied: zstandard<0.24.0,>=0.23.0 in /usr/local/lib/python3.11/dist-packages (from langsmith<0.4,>=0.1.125->langchain_community) (0.23.0)\n",
            "Collecting python-dotenv>=0.21.0 (from pydantic-settings<3.0.0,>=2.4.0->langchain_community)\n",
            "  Downloading python_dotenv-1.0.1-py3-none-any.whl.metadata (23 kB)\n",
            "Requirement already satisfied: charset-normalizer<4,>=2 in /usr/local/lib/python3.11/dist-packages (from requests<3,>=2->langchain_community) (3.4.1)\n",
            "Requirement already satisfied: idna<4,>=2.5 in /usr/local/lib/python3.11/dist-packages (from requests<3,>=2->langchain_community) (3.10)\n",
            "Requirement already satisfied: urllib3<3,>=1.21.1 in /usr/local/lib/python3.11/dist-packages (from requests<3,>=2->langchain_community) (2.3.0)\n",
            "Requirement already satisfied: certifi>=2017.4.17 in /usr/local/lib/python3.11/dist-packages (from requests<3,>=2->langchain_community) (2025.1.31)\n",
            "Requirement already satisfied: greenlet!=0.4.17 in /usr/local/lib/python3.11/dist-packages (from SQLAlchemy<3,>=1.4->langchain_community) (3.1.1)\n",
            "Requirement already satisfied: anyio in /usr/local/lib/python3.11/dist-packages (from httpx<1,>=0.23.0->langsmith<0.4,>=0.1.125->langchain_community) (3.7.1)\n",
            "Requirement already satisfied: httpcore==1.* in /usr/local/lib/python3.11/dist-packages (from httpx<1,>=0.23.0->langsmith<0.4,>=0.1.125->langchain_community) (1.0.7)\n",
            "Requirement already satisfied: h11<0.15,>=0.13 in /usr/local/lib/python3.11/dist-packages (from httpcore==1.*->httpx<1,>=0.23.0->langsmith<0.4,>=0.1.125->langchain_community) (0.14.0)\n",
            "Requirement already satisfied: jsonpointer>=1.9 in /usr/local/lib/python3.11/dist-packages (from jsonpatch<2.0,>=1.33->langchain-core<1.0.0,>=0.3.34->langchain_community) (3.0.0)\n",
            "Requirement already satisfied: annotated-types>=0.6.0 in /usr/local/lib/python3.11/dist-packages (from pydantic<3.0.0,>=2.7.4->langchain<1.0.0,>=0.3.18->langchain_community) (0.7.0)\n",
            "Requirement already satisfied: pydantic-core==2.27.2 in /usr/local/lib/python3.11/dist-packages (from pydantic<3.0.0,>=2.7.4->langchain<1.0.0,>=0.3.18->langchain_community) (2.27.2)\n",
            "Collecting mypy-extensions>=0.3.0 (from typing-inspect<1,>=0.4.0->dataclasses-json<0.7,>=0.5.7->langchain_community)\n",
            "  Downloading mypy_extensions-1.0.0-py3-none-any.whl.metadata (1.1 kB)\n",
            "Requirement already satisfied: sniffio>=1.1 in /usr/local/lib/python3.11/dist-packages (from anyio->httpx<1,>=0.23.0->langsmith<0.4,>=0.1.125->langchain_community) (1.3.1)\n",
            "Downloading langchain_community-0.3.17-py3-none-any.whl (2.5 MB)\n",
            "\u001b[2K   \u001b[90m━━━━━━━━━━━━━━━━━━━━━━━━━━━━━━━━━━━━━━━━\u001b[0m \u001b[32m2.5/2.5 MB\u001b[0m \u001b[31m45.1 MB/s\u001b[0m eta \u001b[36m0:00:00\u001b[0m\n",
            "\u001b[?25hDownloading dataclasses_json-0.6.7-py3-none-any.whl (28 kB)\n",
            "Downloading httpx_sse-0.4.0-py3-none-any.whl (7.8 kB)\n",
            "Downloading langchain-0.3.18-py3-none-any.whl (1.0 MB)\n",
            "\u001b[2K   \u001b[90m━━━━━━━━━━━━━━━━━━━━━━━━━━━━━━━━━━━━━━━━\u001b[0m \u001b[32m1.0/1.0 MB\u001b[0m \u001b[31m58.1 MB/s\u001b[0m eta \u001b[36m0:00:00\u001b[0m\n",
            "\u001b[?25hDownloading langchain_core-0.3.35-py3-none-any.whl (413 kB)\n",
            "\u001b[2K   \u001b[90m━━━━━━━━━━━━━━━━━━━━━━━━━━━━━━━━━━━━━━━━\u001b[0m \u001b[32m413.2/413.2 kB\u001b[0m \u001b[31m35.9 MB/s\u001b[0m eta \u001b[36m0:00:00\u001b[0m\n",
            "\u001b[?25hDownloading pydantic_settings-2.7.1-py3-none-any.whl (29 kB)\n",
            "Downloading langchain_text_splitters-0.3.6-py3-none-any.whl (31 kB)\n",
            "Downloading marshmallow-3.26.1-py3-none-any.whl (50 kB)\n",
            "\u001b[2K   \u001b[90m━━━━━━━━━━━━━━━━━━━━━━━━━━━━━━━━━━━━━━━━\u001b[0m \u001b[32m50.9/50.9 kB\u001b[0m \u001b[31m5.7 MB/s\u001b[0m eta \u001b[36m0:00:00\u001b[0m\n",
            "\u001b[?25hDownloading python_dotenv-1.0.1-py3-none-any.whl (19 kB)\n",
            "Downloading typing_inspect-0.9.0-py3-none-any.whl (8.8 kB)\n",
            "Downloading mypy_extensions-1.0.0-py3-none-any.whl (4.7 kB)\n",
            "Installing collected packages: python-dotenv, mypy-extensions, marshmallow, httpx-sse, typing-inspect, pydantic-settings, dataclasses-json, langchain-core, langchain-text-splitters, langchain, langchain_community\n",
            "  Attempting uninstall: langchain-core\n",
            "    Found existing installation: langchain-core 0.3.33\n",
            "    Uninstalling langchain-core-0.3.33:\n",
            "      Successfully uninstalled langchain-core-0.3.33\n",
            "  Attempting uninstall: langchain-text-splitters\n",
            "    Found existing installation: langchain-text-splitters 0.3.5\n",
            "    Uninstalling langchain-text-splitters-0.3.5:\n",
            "      Successfully uninstalled langchain-text-splitters-0.3.5\n",
            "  Attempting uninstall: langchain\n",
            "    Found existing installation: langchain 0.3.17\n",
            "    Uninstalling langchain-0.3.17:\n",
            "      Successfully uninstalled langchain-0.3.17\n",
            "Successfully installed dataclasses-json-0.6.7 httpx-sse-0.4.0 langchain-0.3.18 langchain-core-0.3.35 langchain-text-splitters-0.3.6 langchain_community-0.3.17 marshmallow-3.26.1 mypy-extensions-1.0.0 pydantic-settings-2.7.1 python-dotenv-1.0.1 typing-inspect-0.9.0\n"
          ]
        }
      ]
    },
    {
      "cell_type": "code",
      "source": [
        "#this is the way , how can we load the csv file using CSV loader\n",
        "from langchain_community.document_loaders.csv_loader import CSVLoader\n",
        "\n",
        "loader = CSVLoader(file_path='/content/iris.csv', metadata_columns=['species'], csv_args={\"delimiter\":\",\"})\n",
        "data = loader.load()\n",
        "len(data)"
      ],
      "metadata": {
        "colab": {
          "base_uri": "https://localhost:8080/"
        },
        "id": "__rNbMdsbL2w",
        "outputId": "f84ee015-a080-4020-98c2-c27d4c7cb817"
      },
      "id": "__rNbMdsbL2w",
      "execution_count": 13,
      "outputs": [
        {
          "output_type": "execute_result",
          "data": {
            "text/plain": [
              "150"
            ]
          },
          "metadata": {},
          "execution_count": 13
        }
      ]
    },
    {
      "cell_type": "code",
      "source": [
        "data"
      ],
      "metadata": {
        "colab": {
          "base_uri": "https://localhost:8080/"
        },
        "id": "SbqXQbCBdZ9A",
        "outputId": "ccf620a5-7b13-4234-81b6-e13b20496f8d"
      },
      "id": "SbqXQbCBdZ9A",
      "execution_count": 17,
      "outputs": [
        {
          "output_type": "execute_result",
          "data": {
            "text/plain": [
              "[Document(metadata={'source': '/content/iris.csv', 'row': 0, 'species': 'setosa'}, page_content='sepal_length: 5.1\\nsepal_width: 3.5\\npetal_length: 1.4\\npetal_width: 0.2'),\n",
              " Document(metadata={'source': '/content/iris.csv', 'row': 1, 'species': 'setosa'}, page_content='sepal_length: 4.9\\nsepal_width: 3.0\\npetal_length: 1.4\\npetal_width: 0.2'),\n",
              " Document(metadata={'source': '/content/iris.csv', 'row': 2, 'species': 'setosa'}, page_content='sepal_length: 4.7\\nsepal_width: 3.2\\npetal_length: 1.3\\npetal_width: 0.2'),\n",
              " Document(metadata={'source': '/content/iris.csv', 'row': 3, 'species': 'setosa'}, page_content='sepal_length: 4.6\\nsepal_width: 3.1\\npetal_length: 1.5\\npetal_width: 0.2'),\n",
              " Document(metadata={'source': '/content/iris.csv', 'row': 4, 'species': 'setosa'}, page_content='sepal_length: 5.0\\nsepal_width: 3.6\\npetal_length: 1.4\\npetal_width: 0.2'),\n",
              " Document(metadata={'source': '/content/iris.csv', 'row': 5, 'species': 'setosa'}, page_content='sepal_length: 5.4\\nsepal_width: 3.9\\npetal_length: 1.7\\npetal_width: 0.4'),\n",
              " Document(metadata={'source': '/content/iris.csv', 'row': 6, 'species': 'setosa'}, page_content='sepal_length: 4.6\\nsepal_width: 3.4\\npetal_length: 1.4\\npetal_width: 0.3'),\n",
              " Document(metadata={'source': '/content/iris.csv', 'row': 7, 'species': 'setosa'}, page_content='sepal_length: 5.0\\nsepal_width: 3.4\\npetal_length: 1.5\\npetal_width: 0.2'),\n",
              " Document(metadata={'source': '/content/iris.csv', 'row': 8, 'species': 'setosa'}, page_content='sepal_length: 4.4\\nsepal_width: 2.9\\npetal_length: 1.4\\npetal_width: 0.2'),\n",
              " Document(metadata={'source': '/content/iris.csv', 'row': 9, 'species': 'setosa'}, page_content='sepal_length: 4.9\\nsepal_width: 3.1\\npetal_length: 1.5\\npetal_width: 0.1'),\n",
              " Document(metadata={'source': '/content/iris.csv', 'row': 10, 'species': 'setosa'}, page_content='sepal_length: 5.4\\nsepal_width: 3.7\\npetal_length: 1.5\\npetal_width: 0.2'),\n",
              " Document(metadata={'source': '/content/iris.csv', 'row': 11, 'species': 'setosa'}, page_content='sepal_length: 4.8\\nsepal_width: 3.4\\npetal_length: 1.6\\npetal_width: 0.2'),\n",
              " Document(metadata={'source': '/content/iris.csv', 'row': 12, 'species': 'setosa'}, page_content='sepal_length: 4.8\\nsepal_width: 3.0\\npetal_length: 1.4\\npetal_width: 0.1'),\n",
              " Document(metadata={'source': '/content/iris.csv', 'row': 13, 'species': 'setosa'}, page_content='sepal_length: 4.3\\nsepal_width: 3.0\\npetal_length: 1.1\\npetal_width: 0.1'),\n",
              " Document(metadata={'source': '/content/iris.csv', 'row': 14, 'species': 'setosa'}, page_content='sepal_length: 5.8\\nsepal_width: 4.0\\npetal_length: 1.2\\npetal_width: 0.2'),\n",
              " Document(metadata={'source': '/content/iris.csv', 'row': 15, 'species': 'setosa'}, page_content='sepal_length: 5.7\\nsepal_width: 4.4\\npetal_length: 1.5\\npetal_width: 0.4'),\n",
              " Document(metadata={'source': '/content/iris.csv', 'row': 16, 'species': 'setosa'}, page_content='sepal_length: 5.4\\nsepal_width: 3.9\\npetal_length: 1.3\\npetal_width: 0.4'),\n",
              " Document(metadata={'source': '/content/iris.csv', 'row': 17, 'species': 'setosa'}, page_content='sepal_length: 5.1\\nsepal_width: 3.5\\npetal_length: 1.4\\npetal_width: 0.3'),\n",
              " Document(metadata={'source': '/content/iris.csv', 'row': 18, 'species': 'setosa'}, page_content='sepal_length: 5.7\\nsepal_width: 3.8\\npetal_length: 1.7\\npetal_width: 0.3'),\n",
              " Document(metadata={'source': '/content/iris.csv', 'row': 19, 'species': 'setosa'}, page_content='sepal_length: 5.1\\nsepal_width: 3.8\\npetal_length: 1.5\\npetal_width: 0.3'),\n",
              " Document(metadata={'source': '/content/iris.csv', 'row': 20, 'species': 'setosa'}, page_content='sepal_length: 5.4\\nsepal_width: 3.4\\npetal_length: 1.7\\npetal_width: 0.2'),\n",
              " Document(metadata={'source': '/content/iris.csv', 'row': 21, 'species': 'setosa'}, page_content='sepal_length: 5.1\\nsepal_width: 3.7\\npetal_length: 1.5\\npetal_width: 0.4'),\n",
              " Document(metadata={'source': '/content/iris.csv', 'row': 22, 'species': 'setosa'}, page_content='sepal_length: 4.6\\nsepal_width: 3.6\\npetal_length: 1.0\\npetal_width: 0.2'),\n",
              " Document(metadata={'source': '/content/iris.csv', 'row': 23, 'species': 'setosa'}, page_content='sepal_length: 5.1\\nsepal_width: 3.3\\npetal_length: 1.7\\npetal_width: 0.5'),\n",
              " Document(metadata={'source': '/content/iris.csv', 'row': 24, 'species': 'setosa'}, page_content='sepal_length: 4.8\\nsepal_width: 3.4\\npetal_length: 1.9\\npetal_width: 0.2'),\n",
              " Document(metadata={'source': '/content/iris.csv', 'row': 25, 'species': 'setosa'}, page_content='sepal_length: 5.0\\nsepal_width: 3.0\\npetal_length: 1.6\\npetal_width: 0.2'),\n",
              " Document(metadata={'source': '/content/iris.csv', 'row': 26, 'species': 'setosa'}, page_content='sepal_length: 5.0\\nsepal_width: 3.4\\npetal_length: 1.6\\npetal_width: 0.4'),\n",
              " Document(metadata={'source': '/content/iris.csv', 'row': 27, 'species': 'setosa'}, page_content='sepal_length: 5.2\\nsepal_width: 3.5\\npetal_length: 1.5\\npetal_width: 0.2'),\n",
              " Document(metadata={'source': '/content/iris.csv', 'row': 28, 'species': 'setosa'}, page_content='sepal_length: 5.2\\nsepal_width: 3.4\\npetal_length: 1.4\\npetal_width: 0.2'),\n",
              " Document(metadata={'source': '/content/iris.csv', 'row': 29, 'species': 'setosa'}, page_content='sepal_length: 4.7\\nsepal_width: 3.2\\npetal_length: 1.6\\npetal_width: 0.2'),\n",
              " Document(metadata={'source': '/content/iris.csv', 'row': 30, 'species': 'setosa'}, page_content='sepal_length: 4.8\\nsepal_width: 3.1\\npetal_length: 1.6\\npetal_width: 0.2'),\n",
              " Document(metadata={'source': '/content/iris.csv', 'row': 31, 'species': 'setosa'}, page_content='sepal_length: 5.4\\nsepal_width: 3.4\\npetal_length: 1.5\\npetal_width: 0.4'),\n",
              " Document(metadata={'source': '/content/iris.csv', 'row': 32, 'species': 'setosa'}, page_content='sepal_length: 5.2\\nsepal_width: 4.1\\npetal_length: 1.5\\npetal_width: 0.1'),\n",
              " Document(metadata={'source': '/content/iris.csv', 'row': 33, 'species': 'setosa'}, page_content='sepal_length: 5.5\\nsepal_width: 4.2\\npetal_length: 1.4\\npetal_width: 0.2'),\n",
              " Document(metadata={'source': '/content/iris.csv', 'row': 34, 'species': 'setosa'}, page_content='sepal_length: 4.9\\nsepal_width: 3.1\\npetal_length: 1.5\\npetal_width: 0.1'),\n",
              " Document(metadata={'source': '/content/iris.csv', 'row': 35, 'species': 'setosa'}, page_content='sepal_length: 5.0\\nsepal_width: 3.2\\npetal_length: 1.2\\npetal_width: 0.2'),\n",
              " Document(metadata={'source': '/content/iris.csv', 'row': 36, 'species': 'setosa'}, page_content='sepal_length: 5.5\\nsepal_width: 3.5\\npetal_length: 1.3\\npetal_width: 0.2'),\n",
              " Document(metadata={'source': '/content/iris.csv', 'row': 37, 'species': 'setosa'}, page_content='sepal_length: 4.9\\nsepal_width: 3.1\\npetal_length: 1.5\\npetal_width: 0.1'),\n",
              " Document(metadata={'source': '/content/iris.csv', 'row': 38, 'species': 'setosa'}, page_content='sepal_length: 4.4\\nsepal_width: 3.0\\npetal_length: 1.3\\npetal_width: 0.2'),\n",
              " Document(metadata={'source': '/content/iris.csv', 'row': 39, 'species': 'setosa'}, page_content='sepal_length: 5.1\\nsepal_width: 3.4\\npetal_length: 1.5\\npetal_width: 0.2'),\n",
              " Document(metadata={'source': '/content/iris.csv', 'row': 40, 'species': 'setosa'}, page_content='sepal_length: 5.0\\nsepal_width: 3.5\\npetal_length: 1.3\\npetal_width: 0.3'),\n",
              " Document(metadata={'source': '/content/iris.csv', 'row': 41, 'species': 'setosa'}, page_content='sepal_length: 4.5\\nsepal_width: 2.3\\npetal_length: 1.3\\npetal_width: 0.3'),\n",
              " Document(metadata={'source': '/content/iris.csv', 'row': 42, 'species': 'setosa'}, page_content='sepal_length: 4.4\\nsepal_width: 3.2\\npetal_length: 1.3\\npetal_width: 0.2'),\n",
              " Document(metadata={'source': '/content/iris.csv', 'row': 43, 'species': 'setosa'}, page_content='sepal_length: 5.0\\nsepal_width: 3.5\\npetal_length: 1.6\\npetal_width: 0.6'),\n",
              " Document(metadata={'source': '/content/iris.csv', 'row': 44, 'species': 'setosa'}, page_content='sepal_length: 5.1\\nsepal_width: 3.8\\npetal_length: 1.9\\npetal_width: 0.4'),\n",
              " Document(metadata={'source': '/content/iris.csv', 'row': 45, 'species': 'setosa'}, page_content='sepal_length: 4.8\\nsepal_width: 3.0\\npetal_length: 1.4\\npetal_width: 0.3'),\n",
              " Document(metadata={'source': '/content/iris.csv', 'row': 46, 'species': 'setosa'}, page_content='sepal_length: 5.1\\nsepal_width: 3.8\\npetal_length: 1.6\\npetal_width: 0.2'),\n",
              " Document(metadata={'source': '/content/iris.csv', 'row': 47, 'species': 'setosa'}, page_content='sepal_length: 4.6\\nsepal_width: 3.2\\npetal_length: 1.4\\npetal_width: 0.2'),\n",
              " Document(metadata={'source': '/content/iris.csv', 'row': 48, 'species': 'setosa'}, page_content='sepal_length: 5.3\\nsepal_width: 3.7\\npetal_length: 1.5\\npetal_width: 0.2'),\n",
              " Document(metadata={'source': '/content/iris.csv', 'row': 49, 'species': 'setosa'}, page_content='sepal_length: 5.0\\nsepal_width: 3.3\\npetal_length: 1.4\\npetal_width: 0.2'),\n",
              " Document(metadata={'source': '/content/iris.csv', 'row': 50, 'species': 'versicolor'}, page_content='sepal_length: 7.0\\nsepal_width: 3.2\\npetal_length: 4.7\\npetal_width: 1.4'),\n",
              " Document(metadata={'source': '/content/iris.csv', 'row': 51, 'species': 'versicolor'}, page_content='sepal_length: 6.4\\nsepal_width: 3.2\\npetal_length: 4.5\\npetal_width: 1.5'),\n",
              " Document(metadata={'source': '/content/iris.csv', 'row': 52, 'species': 'versicolor'}, page_content='sepal_length: 6.9\\nsepal_width: 3.1\\npetal_length: 4.9\\npetal_width: 1.5'),\n",
              " Document(metadata={'source': '/content/iris.csv', 'row': 53, 'species': 'versicolor'}, page_content='sepal_length: 5.5\\nsepal_width: 2.3\\npetal_length: 4.0\\npetal_width: 1.3'),\n",
              " Document(metadata={'source': '/content/iris.csv', 'row': 54, 'species': 'versicolor'}, page_content='sepal_length: 6.5\\nsepal_width: 2.8\\npetal_length: 4.6\\npetal_width: 1.5'),\n",
              " Document(metadata={'source': '/content/iris.csv', 'row': 55, 'species': 'versicolor'}, page_content='sepal_length: 5.7\\nsepal_width: 2.8\\npetal_length: 4.5\\npetal_width: 1.3'),\n",
              " Document(metadata={'source': '/content/iris.csv', 'row': 56, 'species': 'versicolor'}, page_content='sepal_length: 6.3\\nsepal_width: 3.3\\npetal_length: 4.7\\npetal_width: 1.6'),\n",
              " Document(metadata={'source': '/content/iris.csv', 'row': 57, 'species': 'versicolor'}, page_content='sepal_length: 4.9\\nsepal_width: 2.4\\npetal_length: 3.3\\npetal_width: 1.0'),\n",
              " Document(metadata={'source': '/content/iris.csv', 'row': 58, 'species': 'versicolor'}, page_content='sepal_length: 6.6\\nsepal_width: 2.9\\npetal_length: 4.6\\npetal_width: 1.3'),\n",
              " Document(metadata={'source': '/content/iris.csv', 'row': 59, 'species': 'versicolor'}, page_content='sepal_length: 5.2\\nsepal_width: 2.7\\npetal_length: 3.9\\npetal_width: 1.4'),\n",
              " Document(metadata={'source': '/content/iris.csv', 'row': 60, 'species': 'versicolor'}, page_content='sepal_length: 5.0\\nsepal_width: 2.0\\npetal_length: 3.5\\npetal_width: 1.0'),\n",
              " Document(metadata={'source': '/content/iris.csv', 'row': 61, 'species': 'versicolor'}, page_content='sepal_length: 5.9\\nsepal_width: 3.0\\npetal_length: 4.2\\npetal_width: 1.5'),\n",
              " Document(metadata={'source': '/content/iris.csv', 'row': 62, 'species': 'versicolor'}, page_content='sepal_length: 6.0\\nsepal_width: 2.2\\npetal_length: 4.0\\npetal_width: 1.0'),\n",
              " Document(metadata={'source': '/content/iris.csv', 'row': 63, 'species': 'versicolor'}, page_content='sepal_length: 6.1\\nsepal_width: 2.9\\npetal_length: 4.7\\npetal_width: 1.4'),\n",
              " Document(metadata={'source': '/content/iris.csv', 'row': 64, 'species': 'versicolor'}, page_content='sepal_length: 5.6\\nsepal_width: 2.9\\npetal_length: 3.6\\npetal_width: 1.3'),\n",
              " Document(metadata={'source': '/content/iris.csv', 'row': 65, 'species': 'versicolor'}, page_content='sepal_length: 6.7\\nsepal_width: 3.1\\npetal_length: 4.4\\npetal_width: 1.4'),\n",
              " Document(metadata={'source': '/content/iris.csv', 'row': 66, 'species': 'versicolor'}, page_content='sepal_length: 5.6\\nsepal_width: 3.0\\npetal_length: 4.5\\npetal_width: 1.5'),\n",
              " Document(metadata={'source': '/content/iris.csv', 'row': 67, 'species': 'versicolor'}, page_content='sepal_length: 5.8\\nsepal_width: 2.7\\npetal_length: 4.1\\npetal_width: 1.0'),\n",
              " Document(metadata={'source': '/content/iris.csv', 'row': 68, 'species': 'versicolor'}, page_content='sepal_length: 6.2\\nsepal_width: 2.2\\npetal_length: 4.5\\npetal_width: 1.5'),\n",
              " Document(metadata={'source': '/content/iris.csv', 'row': 69, 'species': 'versicolor'}, page_content='sepal_length: 5.6\\nsepal_width: 2.5\\npetal_length: 3.9\\npetal_width: 1.1'),\n",
              " Document(metadata={'source': '/content/iris.csv', 'row': 70, 'species': 'versicolor'}, page_content='sepal_length: 5.9\\nsepal_width: 3.2\\npetal_length: 4.8\\npetal_width: 1.8'),\n",
              " Document(metadata={'source': '/content/iris.csv', 'row': 71, 'species': 'versicolor'}, page_content='sepal_length: 6.1\\nsepal_width: 2.8\\npetal_length: 4.0\\npetal_width: 1.3'),\n",
              " Document(metadata={'source': '/content/iris.csv', 'row': 72, 'species': 'versicolor'}, page_content='sepal_length: 6.3\\nsepal_width: 2.5\\npetal_length: 4.9\\npetal_width: 1.5'),\n",
              " Document(metadata={'source': '/content/iris.csv', 'row': 73, 'species': 'versicolor'}, page_content='sepal_length: 6.1\\nsepal_width: 2.8\\npetal_length: 4.7\\npetal_width: 1.2'),\n",
              " Document(metadata={'source': '/content/iris.csv', 'row': 74, 'species': 'versicolor'}, page_content='sepal_length: 6.4\\nsepal_width: 2.9\\npetal_length: 4.3\\npetal_width: 1.3'),\n",
              " Document(metadata={'source': '/content/iris.csv', 'row': 75, 'species': 'versicolor'}, page_content='sepal_length: 6.6\\nsepal_width: 3.0\\npetal_length: 4.4\\npetal_width: 1.4'),\n",
              " Document(metadata={'source': '/content/iris.csv', 'row': 76, 'species': 'versicolor'}, page_content='sepal_length: 6.8\\nsepal_width: 2.8\\npetal_length: 4.8\\npetal_width: 1.4'),\n",
              " Document(metadata={'source': '/content/iris.csv', 'row': 77, 'species': 'versicolor'}, page_content='sepal_length: 6.7\\nsepal_width: 3.0\\npetal_length: 5.0\\npetal_width: 1.7'),\n",
              " Document(metadata={'source': '/content/iris.csv', 'row': 78, 'species': 'versicolor'}, page_content='sepal_length: 6.0\\nsepal_width: 2.9\\npetal_length: 4.5\\npetal_width: 1.5'),\n",
              " Document(metadata={'source': '/content/iris.csv', 'row': 79, 'species': 'versicolor'}, page_content='sepal_length: 5.7\\nsepal_width: 2.6\\npetal_length: 3.5\\npetal_width: 1.0'),\n",
              " Document(metadata={'source': '/content/iris.csv', 'row': 80, 'species': 'versicolor'}, page_content='sepal_length: 5.5\\nsepal_width: 2.4\\npetal_length: 3.8\\npetal_width: 1.1'),\n",
              " Document(metadata={'source': '/content/iris.csv', 'row': 81, 'species': 'versicolor'}, page_content='sepal_length: 5.5\\nsepal_width: 2.4\\npetal_length: 3.7\\npetal_width: 1.0'),\n",
              " Document(metadata={'source': '/content/iris.csv', 'row': 82, 'species': 'versicolor'}, page_content='sepal_length: 5.8\\nsepal_width: 2.7\\npetal_length: 3.9\\npetal_width: 1.2'),\n",
              " Document(metadata={'source': '/content/iris.csv', 'row': 83, 'species': 'versicolor'}, page_content='sepal_length: 6.0\\nsepal_width: 2.7\\npetal_length: 5.1\\npetal_width: 1.6'),\n",
              " Document(metadata={'source': '/content/iris.csv', 'row': 84, 'species': 'versicolor'}, page_content='sepal_length: 5.4\\nsepal_width: 3.0\\npetal_length: 4.5\\npetal_width: 1.5'),\n",
              " Document(metadata={'source': '/content/iris.csv', 'row': 85, 'species': 'versicolor'}, page_content='sepal_length: 6.0\\nsepal_width: 3.4\\npetal_length: 4.5\\npetal_width: 1.6'),\n",
              " Document(metadata={'source': '/content/iris.csv', 'row': 86, 'species': 'versicolor'}, page_content='sepal_length: 6.7\\nsepal_width: 3.1\\npetal_length: 4.7\\npetal_width: 1.5'),\n",
              " Document(metadata={'source': '/content/iris.csv', 'row': 87, 'species': 'versicolor'}, page_content='sepal_length: 6.3\\nsepal_width: 2.3\\npetal_length: 4.4\\npetal_width: 1.3'),\n",
              " Document(metadata={'source': '/content/iris.csv', 'row': 88, 'species': 'versicolor'}, page_content='sepal_length: 5.6\\nsepal_width: 3.0\\npetal_length: 4.1\\npetal_width: 1.3'),\n",
              " Document(metadata={'source': '/content/iris.csv', 'row': 89, 'species': 'versicolor'}, page_content='sepal_length: 5.5\\nsepal_width: 2.5\\npetal_length: 4.0\\npetal_width: 1.3'),\n",
              " Document(metadata={'source': '/content/iris.csv', 'row': 90, 'species': 'versicolor'}, page_content='sepal_length: 5.5\\nsepal_width: 2.6\\npetal_length: 4.4\\npetal_width: 1.2'),\n",
              " Document(metadata={'source': '/content/iris.csv', 'row': 91, 'species': 'versicolor'}, page_content='sepal_length: 6.1\\nsepal_width: 3.0\\npetal_length: 4.6\\npetal_width: 1.4'),\n",
              " Document(metadata={'source': '/content/iris.csv', 'row': 92, 'species': 'versicolor'}, page_content='sepal_length: 5.8\\nsepal_width: 2.6\\npetal_length: 4.0\\npetal_width: 1.2'),\n",
              " Document(metadata={'source': '/content/iris.csv', 'row': 93, 'species': 'versicolor'}, page_content='sepal_length: 5.0\\nsepal_width: 2.3\\npetal_length: 3.3\\npetal_width: 1.0'),\n",
              " Document(metadata={'source': '/content/iris.csv', 'row': 94, 'species': 'versicolor'}, page_content='sepal_length: 5.6\\nsepal_width: 2.7\\npetal_length: 4.2\\npetal_width: 1.3'),\n",
              " Document(metadata={'source': '/content/iris.csv', 'row': 95, 'species': 'versicolor'}, page_content='sepal_length: 5.7\\nsepal_width: 3.0\\npetal_length: 4.2\\npetal_width: 1.2'),\n",
              " Document(metadata={'source': '/content/iris.csv', 'row': 96, 'species': 'versicolor'}, page_content='sepal_length: 5.7\\nsepal_width: 2.9\\npetal_length: 4.2\\npetal_width: 1.3'),\n",
              " Document(metadata={'source': '/content/iris.csv', 'row': 97, 'species': 'versicolor'}, page_content='sepal_length: 6.2\\nsepal_width: 2.9\\npetal_length: 4.3\\npetal_width: 1.3'),\n",
              " Document(metadata={'source': '/content/iris.csv', 'row': 98, 'species': 'versicolor'}, page_content='sepal_length: 5.1\\nsepal_width: 2.5\\npetal_length: 3.0\\npetal_width: 1.1'),\n",
              " Document(metadata={'source': '/content/iris.csv', 'row': 99, 'species': 'versicolor'}, page_content='sepal_length: 5.7\\nsepal_width: 2.8\\npetal_length: 4.1\\npetal_width: 1.3'),\n",
              " Document(metadata={'source': '/content/iris.csv', 'row': 100, 'species': 'virginica'}, page_content='sepal_length: 6.3\\nsepal_width: 3.3\\npetal_length: 6.0\\npetal_width: 2.5'),\n",
              " Document(metadata={'source': '/content/iris.csv', 'row': 101, 'species': 'virginica'}, page_content='sepal_length: 5.8\\nsepal_width: 2.7\\npetal_length: 5.1\\npetal_width: 1.9'),\n",
              " Document(metadata={'source': '/content/iris.csv', 'row': 102, 'species': 'virginica'}, page_content='sepal_length: 7.1\\nsepal_width: 3.0\\npetal_length: 5.9\\npetal_width: 2.1'),\n",
              " Document(metadata={'source': '/content/iris.csv', 'row': 103, 'species': 'virginica'}, page_content='sepal_length: 6.3\\nsepal_width: 2.9\\npetal_length: 5.6\\npetal_width: 1.8'),\n",
              " Document(metadata={'source': '/content/iris.csv', 'row': 104, 'species': 'virginica'}, page_content='sepal_length: 6.5\\nsepal_width: 3.0\\npetal_length: 5.8\\npetal_width: 2.2'),\n",
              " Document(metadata={'source': '/content/iris.csv', 'row': 105, 'species': 'virginica'}, page_content='sepal_length: 7.6\\nsepal_width: 3.0\\npetal_length: 6.6\\npetal_width: 2.1'),\n",
              " Document(metadata={'source': '/content/iris.csv', 'row': 106, 'species': 'virginica'}, page_content='sepal_length: 4.9\\nsepal_width: 2.5\\npetal_length: 4.5\\npetal_width: 1.7'),\n",
              " Document(metadata={'source': '/content/iris.csv', 'row': 107, 'species': 'virginica'}, page_content='sepal_length: 7.3\\nsepal_width: 2.9\\npetal_length: 6.3\\npetal_width: 1.8'),\n",
              " Document(metadata={'source': '/content/iris.csv', 'row': 108, 'species': 'virginica'}, page_content='sepal_length: 6.7\\nsepal_width: 2.5\\npetal_length: 5.8\\npetal_width: 1.8'),\n",
              " Document(metadata={'source': '/content/iris.csv', 'row': 109, 'species': 'virginica'}, page_content='sepal_length: 7.2\\nsepal_width: 3.6\\npetal_length: 6.1\\npetal_width: 2.5'),\n",
              " Document(metadata={'source': '/content/iris.csv', 'row': 110, 'species': 'virginica'}, page_content='sepal_length: 6.5\\nsepal_width: 3.2\\npetal_length: 5.1\\npetal_width: 2.0'),\n",
              " Document(metadata={'source': '/content/iris.csv', 'row': 111, 'species': 'virginica'}, page_content='sepal_length: 6.4\\nsepal_width: 2.7\\npetal_length: 5.3\\npetal_width: 1.9'),\n",
              " Document(metadata={'source': '/content/iris.csv', 'row': 112, 'species': 'virginica'}, page_content='sepal_length: 6.8\\nsepal_width: 3.0\\npetal_length: 5.5\\npetal_width: 2.1'),\n",
              " Document(metadata={'source': '/content/iris.csv', 'row': 113, 'species': 'virginica'}, page_content='sepal_length: 5.7\\nsepal_width: 2.5\\npetal_length: 5.0\\npetal_width: 2.0'),\n",
              " Document(metadata={'source': '/content/iris.csv', 'row': 114, 'species': 'virginica'}, page_content='sepal_length: 5.8\\nsepal_width: 2.8\\npetal_length: 5.1\\npetal_width: 2.4'),\n",
              " Document(metadata={'source': '/content/iris.csv', 'row': 115, 'species': 'virginica'}, page_content='sepal_length: 6.4\\nsepal_width: 3.2\\npetal_length: 5.3\\npetal_width: 2.3'),\n",
              " Document(metadata={'source': '/content/iris.csv', 'row': 116, 'species': 'virginica'}, page_content='sepal_length: 6.5\\nsepal_width: 3.0\\npetal_length: 5.5\\npetal_width: 1.8'),\n",
              " Document(metadata={'source': '/content/iris.csv', 'row': 117, 'species': 'virginica'}, page_content='sepal_length: 7.7\\nsepal_width: 3.8\\npetal_length: 6.7\\npetal_width: 2.2'),\n",
              " Document(metadata={'source': '/content/iris.csv', 'row': 118, 'species': 'virginica'}, page_content='sepal_length: 7.7\\nsepal_width: 2.6\\npetal_length: 6.9\\npetal_width: 2.3'),\n",
              " Document(metadata={'source': '/content/iris.csv', 'row': 119, 'species': 'virginica'}, page_content='sepal_length: 6.0\\nsepal_width: 2.2\\npetal_length: 5.0\\npetal_width: 1.5'),\n",
              " Document(metadata={'source': '/content/iris.csv', 'row': 120, 'species': 'virginica'}, page_content='sepal_length: 6.9\\nsepal_width: 3.2\\npetal_length: 5.7\\npetal_width: 2.3'),\n",
              " Document(metadata={'source': '/content/iris.csv', 'row': 121, 'species': 'virginica'}, page_content='sepal_length: 5.6\\nsepal_width: 2.8\\npetal_length: 4.9\\npetal_width: 2.0'),\n",
              " Document(metadata={'source': '/content/iris.csv', 'row': 122, 'species': 'virginica'}, page_content='sepal_length: 7.7\\nsepal_width: 2.8\\npetal_length: 6.7\\npetal_width: 2.0'),\n",
              " Document(metadata={'source': '/content/iris.csv', 'row': 123, 'species': 'virginica'}, page_content='sepal_length: 6.3\\nsepal_width: 2.7\\npetal_length: 4.9\\npetal_width: 1.8'),\n",
              " Document(metadata={'source': '/content/iris.csv', 'row': 124, 'species': 'virginica'}, page_content='sepal_length: 6.7\\nsepal_width: 3.3\\npetal_length: 5.7\\npetal_width: 2.1'),\n",
              " Document(metadata={'source': '/content/iris.csv', 'row': 125, 'species': 'virginica'}, page_content='sepal_length: 7.2\\nsepal_width: 3.2\\npetal_length: 6.0\\npetal_width: 1.8'),\n",
              " Document(metadata={'source': '/content/iris.csv', 'row': 126, 'species': 'virginica'}, page_content='sepal_length: 6.2\\nsepal_width: 2.8\\npetal_length: 4.8\\npetal_width: 1.8'),\n",
              " Document(metadata={'source': '/content/iris.csv', 'row': 127, 'species': 'virginica'}, page_content='sepal_length: 6.1\\nsepal_width: 3.0\\npetal_length: 4.9\\npetal_width: 1.8'),\n",
              " Document(metadata={'source': '/content/iris.csv', 'row': 128, 'species': 'virginica'}, page_content='sepal_length: 6.4\\nsepal_width: 2.8\\npetal_length: 5.6\\npetal_width: 2.1'),\n",
              " Document(metadata={'source': '/content/iris.csv', 'row': 129, 'species': 'virginica'}, page_content='sepal_length: 7.2\\nsepal_width: 3.0\\npetal_length: 5.8\\npetal_width: 1.6'),\n",
              " Document(metadata={'source': '/content/iris.csv', 'row': 130, 'species': 'virginica'}, page_content='sepal_length: 7.4\\nsepal_width: 2.8\\npetal_length: 6.1\\npetal_width: 1.9'),\n",
              " Document(metadata={'source': '/content/iris.csv', 'row': 131, 'species': 'virginica'}, page_content='sepal_length: 7.9\\nsepal_width: 3.8\\npetal_length: 6.4\\npetal_width: 2.0'),\n",
              " Document(metadata={'source': '/content/iris.csv', 'row': 132, 'species': 'virginica'}, page_content='sepal_length: 6.4\\nsepal_width: 2.8\\npetal_length: 5.6\\npetal_width: 2.2'),\n",
              " Document(metadata={'source': '/content/iris.csv', 'row': 133, 'species': 'virginica'}, page_content='sepal_length: 6.3\\nsepal_width: 2.8\\npetal_length: 5.1\\npetal_width: 1.5'),\n",
              " Document(metadata={'source': '/content/iris.csv', 'row': 134, 'species': 'virginica'}, page_content='sepal_length: 6.1\\nsepal_width: 2.6\\npetal_length: 5.6\\npetal_width: 1.4'),\n",
              " Document(metadata={'source': '/content/iris.csv', 'row': 135, 'species': 'virginica'}, page_content='sepal_length: 7.7\\nsepal_width: 3.0\\npetal_length: 6.1\\npetal_width: 2.3'),\n",
              " Document(metadata={'source': '/content/iris.csv', 'row': 136, 'species': 'virginica'}, page_content='sepal_length: 6.3\\nsepal_width: 3.4\\npetal_length: 5.6\\npetal_width: 2.4'),\n",
              " Document(metadata={'source': '/content/iris.csv', 'row': 137, 'species': 'virginica'}, page_content='sepal_length: 6.4\\nsepal_width: 3.1\\npetal_length: 5.5\\npetal_width: 1.8'),\n",
              " Document(metadata={'source': '/content/iris.csv', 'row': 138, 'species': 'virginica'}, page_content='sepal_length: 6.0\\nsepal_width: 3.0\\npetal_length: 4.8\\npetal_width: 1.8'),\n",
              " Document(metadata={'source': '/content/iris.csv', 'row': 139, 'species': 'virginica'}, page_content='sepal_length: 6.9\\nsepal_width: 3.1\\npetal_length: 5.4\\npetal_width: 2.1'),\n",
              " Document(metadata={'source': '/content/iris.csv', 'row': 140, 'species': 'virginica'}, page_content='sepal_length: 6.7\\nsepal_width: 3.1\\npetal_length: 5.6\\npetal_width: 2.4'),\n",
              " Document(metadata={'source': '/content/iris.csv', 'row': 141, 'species': 'virginica'}, page_content='sepal_length: 6.9\\nsepal_width: 3.1\\npetal_length: 5.1\\npetal_width: 2.3'),\n",
              " Document(metadata={'source': '/content/iris.csv', 'row': 142, 'species': 'virginica'}, page_content='sepal_length: 5.8\\nsepal_width: 2.7\\npetal_length: 5.1\\npetal_width: 1.9'),\n",
              " Document(metadata={'source': '/content/iris.csv', 'row': 143, 'species': 'virginica'}, page_content='sepal_length: 6.8\\nsepal_width: 3.2\\npetal_length: 5.9\\npetal_width: 2.3'),\n",
              " Document(metadata={'source': '/content/iris.csv', 'row': 144, 'species': 'virginica'}, page_content='sepal_length: 6.7\\nsepal_width: 3.3\\npetal_length: 5.7\\npetal_width: 2.5'),\n",
              " Document(metadata={'source': '/content/iris.csv', 'row': 145, 'species': 'virginica'}, page_content='sepal_length: 6.7\\nsepal_width: 3.0\\npetal_length: 5.2\\npetal_width: 2.3'),\n",
              " Document(metadata={'source': '/content/iris.csv', 'row': 146, 'species': 'virginica'}, page_content='sepal_length: 6.3\\nsepal_width: 2.5\\npetal_length: 5.0\\npetal_width: 1.9'),\n",
              " Document(metadata={'source': '/content/iris.csv', 'row': 147, 'species': 'virginica'}, page_content='sepal_length: 6.5\\nsepal_width: 3.0\\npetal_length: 5.2\\npetal_width: 2.0'),\n",
              " Document(metadata={'source': '/content/iris.csv', 'row': 148, 'species': 'virginica'}, page_content='sepal_length: 6.2\\nsepal_width: 3.4\\npetal_length: 5.4\\npetal_width: 2.3'),\n",
              " Document(metadata={'source': '/content/iris.csv', 'row': 149, 'species': 'virginica'}, page_content='sepal_length: 5.9\\nsepal_width: 3.0\\npetal_length: 5.1\\npetal_width: 1.8')]"
            ]
          },
          "metadata": {},
          "execution_count": 17
        }
      ]
    },
    {
      "cell_type": "code",
      "source": [
        "data[0].metadata"
      ],
      "metadata": {
        "colab": {
          "base_uri": "https://localhost:8080/"
        },
        "id": "2LSbL6PcfeVR",
        "outputId": "fdbadcd6-bbba-45e7-8410-e60b241ece49"
      },
      "id": "2LSbL6PcfeVR",
      "execution_count": 18,
      "outputs": [
        {
          "output_type": "execute_result",
          "data": {
            "text/plain": [
              "{'source': '/content/iris.csv', 'row': 0, 'species': 'setosa'}"
            ]
          },
          "metadata": {},
          "execution_count": 18
        }
      ]
    },
    {
      "cell_type": "code",
      "source": [
        "data[0].page_content"
      ],
      "metadata": {
        "colab": {
          "base_uri": "https://localhost:8080/",
          "height": 36
        },
        "id": "epIm8ExFfg4f",
        "outputId": "7fdd4423-ac72-4e9b-86af-cc7fc6445574"
      },
      "id": "epIm8ExFfg4f",
      "execution_count": 19,
      "outputs": [
        {
          "output_type": "execute_result",
          "data": {
            "text/plain": [
              "'sepal_length: 5.1\\nsepal_width: 3.5\\npetal_length: 1.4\\npetal_width: 0.2'"
            ],
            "application/vnd.google.colaboratory.intrinsic+json": {
              "type": "string"
            }
          },
          "metadata": {},
          "execution_count": 19
        }
      ]
    },
    {
      "cell_type": "code",
      "source": [
        "for record in data[:1]:\n",
        "  print(record)"
      ],
      "metadata": {
        "colab": {
          "base_uri": "https://localhost:8080/"
        },
        "id": "n4LeOqsDfryE",
        "outputId": "e96e7e14-7ee6-4201-94ae-50d0ed269a11"
      },
      "id": "n4LeOqsDfryE",
      "execution_count": 22,
      "outputs": [
        {
          "output_type": "stream",
          "name": "stdout",
          "text": [
            "page_content='sepal_length: 5.1\n",
            "sepal_width: 3.5\n",
            "petal_length: 1.4\n",
            "petal_width: 0.2' metadata={'source': '/content/iris.csv', 'row': 0, 'species': 'setosa'}\n"
          ]
        }
      ]
    },
    {
      "cell_type": "code",
      "source": [
        "#This is the way how can we use Pdf Loader using langchain\n",
        "from langchain_community.document_loaders import UnstructuredPDFLoader\n",
        "\n",
        "loader = UnstructuredPDFLoader('/content/resume.pdf', mode='elements', strategy='auto')\n",
        "\n",
        "data = loader.load()\n",
        "len(data)"
      ],
      "metadata": {
        "colab": {
          "base_uri": "https://localhost:8080/"
        },
        "id": "qR9uve1ldarc",
        "outputId": "596adf00-76e5-4088-cefa-e56f9e8bcf0d"
      },
      "id": "qR9uve1ldarc",
      "execution_count": 2,
      "outputs": [
        {
          "output_type": "execute_result",
          "data": {
            "text/plain": [
              "23"
            ]
          },
          "metadata": {},
          "execution_count": 2
        }
      ]
    },
    {
      "cell_type": "code",
      "source": [
        "data"
      ],
      "metadata": {
        "colab": {
          "base_uri": "https://localhost:8080/"
        },
        "id": "-LuJT4HUlNWA",
        "outputId": "5f3c7f8a-12af-4a6c-e5d3-08d05954356b"
      },
      "id": "-LuJT4HUlNWA",
      "execution_count": 3,
      "outputs": [
        {
          "output_type": "execute_result",
          "data": {
            "text/plain": [
              "[Document(metadata={'source': '/content/resume.pdf', 'coordinates': {'points': ((56.69291338582678, 42.41891338582673), (56.69291338582678, 60.41891338582673), (123.70691338582678, 60.41891338582673), (123.70691338582678, 42.41891338582673)), 'system': 'PixelSpace', 'layout_width': 595.28, 'layout_height': 841.89}, 'file_directory': '/content', 'filename': 'resume.pdf', 'languages': ['eng'], 'last_modified': '2025-02-14T08:09:32', 'page_number': 1, 'filetype': 'application/pdf', 'category': 'Header', 'element_id': 'ee60bf6d8d31be4a4323851ce8dc35f7'}, page_content='Resume'),\n",
              " Document(metadata={'source': '/content/resume.pdf', 'coordinates': {'points': ((56.69291338582678, 70.76537007874015), (56.69291338582678, 88.76537007874015), (278.7949133858268, 88.76537007874015), (278.7949133858268, 70.76537007874015)), 'system': 'PixelSpace', 'layout_width': 595.28, 'layout_height': 841.89}, 'file_directory': '/content', 'filename': 'resume.pdf', 'languages': ['eng'], 'last_modified': '2025-02-14T08:09:32', 'page_number': 1, 'parent_id': 'ee60bf6d8d31be4a4323851ce8dc35f7', 'filetype': 'application/pdf', 'category': 'Title', 'element_id': '2513f16ed35228fb0d7d065a09fed1b9'}, page_content='Name: Surbhi Singh Baghel'),\n",
              " Document(metadata={'source': '/content/resume.pdf', 'coordinates': {'points': ((56.69291338582678, 119.62905511811027), (56.69291338582678, 129.62905511811027), (143.3929133858268, 129.62905511811027), (143.3929133858268, 119.62905511811027)), 'system': 'PixelSpace', 'layout_width': 595.28, 'layout_height': 841.89}, 'file_directory': '/content', 'filename': 'resume.pdf', 'languages': ['eng'], 'last_modified': '2025-02-14T08:09:32', 'page_number': 1, 'parent_id': 'ee60bf6d8d31be4a4323851ce8dc35f7', 'filetype': 'application/pdf', 'category': 'Title', 'element_id': '713bbb95ad661c6a301121c3b535962d'}, page_content='Position: Developer'),\n",
              " Document(metadata={'source': '/content/resume.pdf', 'coordinates': {'points': ((56.69291338582678, 147.9755118110237), (56.69291338582678, 157.9755118110237), (2710.362913385815, 157.9755118110237), (2710.362913385815, 147.9755118110237)), 'system': 'PixelSpace', 'layout_width': 595.28, 'layout_height': 841.89}, 'file_directory': '/content', 'filename': 'resume.pdf', 'languages': ['eng'], 'last_modified': '2025-02-14T08:09:32', 'page_number': 1, 'parent_id': '713bbb95ad661c6a301121c3b535962d', 'filetype': 'application/pdf', 'category': 'NarrativeText', 'element_id': 'f7eb409ac02a840232eadd4f1186f87a'}, page_content=\"Experience: 1 year Lorem Ipsum is simply dummy text of the printing and typesetting industry. Lorem Ipsum has been the industry's standard dummy text ever since the 1500s, when an unknown printer took a galley of type and scrambled it to make a type specimen book. It has survived not only five centuries, but also the leap into electronic typesetting, remaining essentially unchanged. It was popularised in the 1960s with the release of Letraset sheets containing Lorem Ipsum passages, and more recently with desktop publishing software like Aldus PageMaker including versions of Lorem Ipsum.\"),\n",
              " Document(metadata={'source': '/content/resume.pdf', 'coordinates': {'points': ((56.69291338582678, 176.32196850393711), (56.69291338582678, 186.32196850393711), (2505.872913385818, 186.32196850393711), (2505.872913385818, 176.32196850393711)), 'system': 'PixelSpace', 'layout_width': 595.28, 'layout_height': 841.89}, 'file_directory': '/content', 'filename': 'resume.pdf', 'languages': ['eng'], 'last_modified': '2025-02-14T08:09:32', 'page_number': 1, 'parent_id': '713bbb95ad661c6a301121c3b535962d', 'filetype': 'application/pdf', 'category': 'NarrativeText', 'element_id': '869ebf38559c76fcad1cb3dd03123216'}, page_content='Technologies: react-The first line of Lorem Ipsum, \"Lorem ipsum dolor sit amet..\", comes from a line in section 1.10.32., mongoDB-The first line of Lorem Ipsum, \"Lorem ipsum dolor sit amet..\", comes from a line in section 1.10.32., NextJs-The first line of Lorem Ipsum, \"Lorem ipsum dolor sit amet..\", comes from a line in section 1.10.32., NodeJs-The first line of Lorem Ipsum, \"Lorem ipsum dolor sit amet..\", comes from a line in section 1.10.32., Postgress-The first line of Lorem Ipsum, \"Lorem ipsum dolor sit amet..\", comes from a line in section 1.10.32.'),\n",
              " Document(metadata={'source': '/content/resume.pdf', 'coordinates': {'points': ((56.69291338582678, 204.66842519685042), (56.69291338582678, 214.66842519685042), (131.1829133858268, 214.66842519685042), (131.1829133858268, 204.66842519685042)), 'system': 'PixelSpace', 'layout_width': 595.28, 'layout_height': 841.89}, 'file_directory': '/content', 'filename': 'resume.pdf', 'languages': ['eng'], 'last_modified': '2025-02-14T08:09:32', 'page_number': 1, 'parent_id': 'ee60bf6d8d31be4a4323851ce8dc35f7', 'filetype': 'application/pdf', 'category': 'Title', 'element_id': '843e5cb56407ea4507675aa8f34e3b58'}, page_content='Education: btech'),\n",
              " Document(metadata={'source': '/content/resume.pdf', 'coordinates': {'points': ((56.69291338582678, 233.01488188976384), (56.69291338582678, 243.01488188976384), (152.31291338582682, 243.01488188976384), (152.31291338582682, 233.01488188976384)), 'system': 'PixelSpace', 'layout_width': 595.28, 'layout_height': 841.89}, 'file_directory': '/content', 'filename': 'resume.pdf', 'languages': ['eng'], 'last_modified': '2025-02-14T08:09:32', 'page_number': 1, 'parent_id': '843e5cb56407ea4507675aa8f34e3b58', 'filetype': 'application/pdf', 'category': 'UncategorizedText', 'element_id': 'eaea0e660808a7c1b4e27775a7509cae'}, page_content='Contact: 1234567890'),\n",
              " Document(metadata={'source': '/content/resume.pdf', 'coordinates': {'points': ((56.69291338582678, 261.36133858267726), (56.69291338582678, 271.36133858267726), (313.1429133858269, 271.36133858267726), (313.1429133858269, 261.36133858267726)), 'system': 'PixelSpace', 'layout_width': 595.28, 'layout_height': 841.89}, 'file_directory': '/content', 'filename': 'resume.pdf', 'languages': ['eng'], 'last_modified': '2025-02-14T08:09:32', 'page_number': 1, 'parent_id': 'ee60bf6d8d31be4a4323851ce8dc35f7', 'filetype': 'application/pdf', 'category': 'Title', 'element_id': '58908c708784acfe5f41703d08f057d1'}, page_content=\"Address: Officer's Colony ,Vijaynagar, Indore (M.P) , India\"),\n",
              " Document(metadata={'source': '/content/resume.pdf', 'coordinates': {'points': ((56.69291338582678, 283.3637952755905), (56.69291338582678, 301.3637952755905), (127.72091338582678, 301.3637952755905), (127.72091338582678, 283.3637952755905)), 'system': 'PixelSpace', 'layout_width': 595.28, 'layout_height': 841.89}, 'file_directory': '/content', 'filename': 'resume.pdf', 'languages': ['eng'], 'last_modified': '2025-02-14T08:09:32', 'page_number': 1, 'parent_id': 'ee60bf6d8d31be4a4323851ce8dc35f7', 'filetype': 'application/pdf', 'category': 'Title', 'element_id': '648dd56f356b15008b903cb2db8df035'}, page_content='Project 1'),\n",
              " Document(metadata={'source': '/content/resume.pdf', 'coordinates': {'points': ((68.03149606299213, 352.06606299212604), (68.03149606299213, 362.06606299212604), (88.59149606299214, 362.06606299212604), (88.59149606299214, 352.06606299212604)), 'system': 'PixelSpace', 'layout_width': 595.28, 'layout_height': 841.89}, 'file_directory': '/content', 'filename': 'resume.pdf', 'languages': ['eng'], 'last_modified': '2025-02-14T08:09:32', 'page_number': 1, 'parent_id': 'ee60bf6d8d31be4a4323851ce8dc35f7', 'filetype': 'application/pdf', 'category': 'Title', 'element_id': '859498c6934720b10cc5a36e3d54685a'}, page_content='Title'),\n",
              " Document(metadata={'source': '/content/resume.pdf', 'coordinates': {'points': ((140.40866141732286, 352.06606299212604), (140.40866141732286, 362.06606299212604), (195.41866141732288, 362.06606299212604), (195.41866141732288, 352.06606299212604)), 'system': 'PixelSpace', 'layout_width': 595.28, 'layout_height': 841.89}, 'file_directory': '/content', 'filename': 'resume.pdf', 'languages': ['eng'], 'last_modified': '2025-02-14T08:09:32', 'page_number': 1, 'parent_id': 'ee60bf6d8d31be4a4323851ce8dc35f7', 'filetype': 'application/pdf', 'category': 'Title', 'element_id': '1b14b99b6068e73625c5e47f7461773f'}, page_content='Description'),\n",
              " Document(metadata={'source': '/content/resume.pdf', 'coordinates': {'points': ((68.03149606299213, 386.2432283464567), (68.03149606299213, 407.7432283464567), (99.15149606299214, 407.7432283464567), (99.15149606299214, 386.2432283464567)), 'system': 'PixelSpace', 'layout_width': 595.28, 'layout_height': 841.89}, 'file_directory': '/content', 'filename': 'resume.pdf', 'languages': ['eng'], 'last_modified': '2025-02-14T08:09:32', 'page_number': 1, 'parent_id': 'ee60bf6d8d31be4a4323851ce8dc35f7', 'filetype': 'application/pdf', 'category': 'Title', 'element_id': '781fa20a3fb522b87829726e05ba98ba'}, page_content='Project Name'),\n",
              " Document(metadata={'source': '/content/resume.pdf', 'coordinates': {'points': ((140.40866141732286, 386.2432283464567), (140.40866141732286, 396.2432283464567), (179.86866141732287, 396.2432283464567), (179.86866141732287, 386.2432283464567)), 'system': 'PixelSpace', 'layout_width': 595.28, 'layout_height': 841.89}, 'file_directory': '/content', 'filename': 'resume.pdf', 'languages': ['eng'], 'last_modified': '2025-02-14T08:09:32', 'page_number': 1, 'parent_id': 'ee60bf6d8d31be4a4323851ce8dc35f7', 'filetype': 'application/pdf', 'category': 'Title', 'element_id': '52085d6676ded7533af395f669ef7649'}, page_content='Project 1'),\n",
              " Document(metadata={'source': '/content/resume.pdf', 'coordinates': {'points': ((68.03149606299213, 431.9203937007874), (68.03149606299213, 441.9203937007874), (88.59149606299214, 441.9203937007874), (88.59149606299214, 431.9203937007874)), 'system': 'PixelSpace', 'layout_width': 595.28, 'layout_height': 841.89}, 'file_directory': '/content', 'filename': 'resume.pdf', 'languages': ['eng'], 'last_modified': '2025-02-14T08:09:32', 'page_number': 1, 'parent_id': 'ee60bf6d8d31be4a4323851ce8dc35f7', 'filetype': 'application/pdf', 'category': 'Title', 'element_id': '5af6b44577d35c04fe723c44c6e936b4'}, page_content='Role'),\n",
              " Document(metadata={'source': '/content/resume.pdf', 'coordinates': {'points': ((140.40866141732286, 431.9203937007874), (140.40866141732286, 441.9203937007874), (218.77866141732287, 441.9203937007874), (218.77866141732287, 431.9203937007874)), 'system': 'PixelSpace', 'layout_width': 595.28, 'layout_height': 841.89}, 'file_directory': '/content', 'filename': 'resume.pdf', 'languages': ['eng'], 'last_modified': '2025-02-14T08:09:32', 'page_number': 1, 'parent_id': 'ee60bf6d8d31be4a4323851ce8dc35f7', 'filetype': 'application/pdf', 'category': 'Title', 'element_id': 'a74248dd4024d28489de127d66df76ee'}, page_content='Senior developer'),\n",
              " Document(metadata={'source': '/content/resume.pdf', 'coordinates': {'points': ((68.03149606299213, 466.0975590551181), (68.03149606299213, 476.0975590551181), (91.36149606299213, 476.0975590551181), (91.36149606299213, 466.0975590551181)), 'system': 'PixelSpace', 'layout_width': 595.28, 'layout_height': 841.89}, 'file_directory': '/content', 'filename': 'resume.pdf', 'languages': ['eng'], 'last_modified': '2025-02-14T08:09:32', 'page_number': 1, 'parent_id': 'ee60bf6d8d31be4a4323851ce8dc35f7', 'filetype': 'application/pdf', 'category': 'Title', 'element_id': 'bf2e2a95ba546d613453147d0cfda3f2'}, page_content='Skills'),\n",
              " Document(metadata={'source': '/content/resume.pdf', 'coordinates': {'points': ((140.40866141732286, 466.0975590551181), (140.40866141732286, 476.0975590551181), (355.4986614173229, 476.0975590551181), (355.4986614173229, 466.0975590551181)), 'system': 'PixelSpace', 'layout_width': 595.28, 'layout_height': 841.89}, 'file_directory': '/content', 'filename': 'resume.pdf', 'languages': ['eng'], 'last_modified': '2025-02-14T08:09:32', 'page_number': 1, 'parent_id': 'ee60bf6d8d31be4a4323851ce8dc35f7', 'filetype': 'application/pdf', 'category': 'Title', 'element_id': '056d139f0dbf951573174dbdde6d2be8'}, page_content='react, node, javascript, postgres, aws, mongoDB'),\n",
              " Document(metadata={'source': '/content/resume.pdf', 'coordinates': {'points': ((68.03149606299213, 500.27472440944877), (68.03149606299213, 510.27472440944877), (105.82149606299214, 510.27472440944877), (105.82149606299214, 500.27472440944877)), 'system': 'PixelSpace', 'layout_width': 595.28, 'layout_height': 841.89}, 'file_directory': '/content', 'filename': 'resume.pdf', 'languages': ['eng'], 'last_modified': '2025-02-14T08:09:32', 'page_number': 1, 'parent_id': 'ee60bf6d8d31be4a4323851ce8dc35f7', 'filetype': 'application/pdf', 'category': 'Title', 'element_id': '31a192637d45ce4d72f4bd25c843bd7a'}, page_content='Duration'),\n",
              " Document(metadata={'source': '/content/resume.pdf', 'coordinates': {'points': ((140.40866141732286, 500.27472440944877), (140.40866141732286, 510.27472440944877), (169.86866141732287, 510.27472440944877), (169.86866141732287, 500.27472440944877)), 'system': 'PixelSpace', 'layout_width': 595.28, 'layout_height': 841.89}, 'file_directory': '/content', 'filename': 'resume.pdf', 'languages': ['eng'], 'last_modified': '2025-02-14T08:09:32', 'page_number': 1, 'parent_id': 'ee60bf6d8d31be4a4323851ce8dc35f7', 'filetype': 'application/pdf', 'category': 'Title', 'element_id': 'c7ce24a041c66ab4fcd21c1b9cf46eab'}, page_content='1 Year'),\n",
              " Document(metadata={'source': '/content/resume.pdf', 'coordinates': {'points': ((68.03149606299213, 534.4518897637795), (68.03149606299213, 544.4518897637795), (118.04149606299214, 544.4518897637795), (118.04149606299214, 534.4518897637795)), 'system': 'PixelSpace', 'layout_width': 595.28, 'layout_height': 841.89}, 'file_directory': '/content', 'filename': 'resume.pdf', 'languages': ['eng'], 'last_modified': '2025-02-14T08:09:32', 'page_number': 1, 'parent_id': 'ee60bf6d8d31be4a4323851ce8dc35f7', 'filetype': 'application/pdf', 'category': 'Title', 'element_id': '7ec46f09f78fe81287ead3651dec316e'}, page_content='Description'),\n",
              " Document(metadata={'source': '/content/resume.pdf', 'coordinates': {'points': ((140.40866141732286, 534.4518897637795), (140.40866141732286, 601.9518897637795), (505.5486614173226, 601.9518897637795), (505.5486614173226, 534.4518897637795)), 'system': 'PixelSpace', 'layout_width': 595.28, 'layout_height': 841.89}, 'file_directory': '/content', 'filename': 'resume.pdf', 'languages': ['eng'], 'last_modified': '2025-02-14T08:09:32', 'page_number': 1, 'parent_id': '7ec46f09f78fe81287ead3651dec316e', 'filetype': 'application/pdf', 'category': 'NarrativeText', 'element_id': 'ae8c79f444fac6a35cb2d7c8d22377a5'}, page_content='A Convolutional Neural Network (CNN) is a type of deep learning algorithm that is particularly well-suited for image recognition and processing tasks. It is made up of multiple layers, including convolutional layers, pooling layers, and fully connected layers. The architecture of CNNs is inspired by the visual processing in the human brain, and they are well-suited for capturing hierarchical patterns and spatial dependencies within images.'),\n",
              " Document(metadata={'source': '/content/resume.pdf', 'coordinates': {'points': ((68.03149606299213, 626.1290551181103), (68.03149606299213, 647.6290551181103), (110.82149606299214, 647.6290551181103), (110.82149606299214, 626.1290551181103)), 'system': 'PixelSpace', 'layout_width': 595.28, 'layout_height': 841.89}, 'file_directory': '/content', 'filename': 'resume.pdf', 'languages': ['eng'], 'last_modified': '2025-02-14T08:09:32', 'page_number': 1, 'parent_id': 'ee60bf6d8d31be4a4323851ce8dc35f7', 'filetype': 'application/pdf', 'category': 'Title', 'element_id': '00d29135cc9c5d37cea7b45664a33ee9'}, page_content='Company Name'),\n",
              " Document(metadata={'source': '/content/resume.pdf', 'coordinates': {'points': ((140.40866141732286, 626.1290551181103), (140.40866141732286, 636.1290551181103), (203.77866141732287, 636.1290551181103), (203.77866141732287, 626.1290551181103)), 'system': 'PixelSpace', 'layout_width': 595.28, 'layout_height': 841.89}, 'file_directory': '/content', 'filename': 'resume.pdf', 'languages': ['eng'], 'last_modified': '2025-02-14T08:09:32', 'page_number': 1, 'parent_id': 'ee60bf6d8d31be4a4323851ce8dc35f7', 'filetype': 'application/pdf', 'category': 'Title', 'element_id': '97faa9a5e45e5a16d496865505ffe446'}, page_content='Golden Eagle')]"
            ]
          },
          "metadata": {},
          "execution_count": 3
        }
      ]
    },
    {
      "cell_type": "code",
      "source": [
        "# pip install unstructured/\n",
        "# !pip install PDFMiner\n"
      ],
      "metadata": {
        "id": "fvu0IdYzgzVa"
      },
      "id": "fvu0IdYzgzVa",
      "execution_count": 8,
      "outputs": []
    },
    {
      "cell_type": "code",
      "source": [
        "# pip install \"unstructured[pdf]\"\n"
      ],
      "metadata": {
        "id": "INSX3ce3ji5v"
      },
      "id": "INSX3ce3ji5v",
      "execution_count": 9,
      "outputs": []
    },
    {
      "cell_type": "code",
      "source": [
        "#I am going to implement the manual way to load the pdf file\n",
        "# !pip install pypdf\n",
        "\n",
        "from langchain_community.document_loaders import PyPDFLoader\n",
        "\n",
        "loader = PyPDFLoader('/content/resume.pdf')\n",
        "pages = []\n",
        "async for page in loader.alazy_load():\n",
        "    pages.append(page)"
      ],
      "metadata": {
        "id": "LwpjttwVg2XH"
      },
      "id": "LwpjttwVg2XH",
      "execution_count": 12,
      "outputs": []
    },
    {
      "cell_type": "code",
      "source": [
        "print(f\"{pages[0].metadata}\\n\")"
      ],
      "metadata": {
        "colab": {
          "base_uri": "https://localhost:8080/"
        },
        "id": "kUyd_pBmjtDX",
        "outputId": "212d59bc-e390-41ae-a2bd-3d8606448ad7"
      },
      "id": "kUyd_pBmjtDX",
      "execution_count": 13,
      "outputs": [
        {
          "output_type": "stream",
          "name": "stdout",
          "text": [
            "{'producer': 'jsPDF 2.5.2', 'creator': 'PyPDF', 'creationdate': '2025-01-30T15:27:33+05:30', 'source': '/content/resume.pdf', 'total_pages': 2, 'page': 0, 'page_label': '1'}\n",
            "\n"
          ]
        }
      ]
    },
    {
      "cell_type": "code",
      "source": [
        "print(pages[0].page_content)"
      ],
      "metadata": {
        "colab": {
          "base_uri": "https://localhost:8080/"
        },
        "id": "i_pFqvIVqkxi",
        "outputId": "c607e940-1137-42ae-e613-d2b2bbc5ee54"
      },
      "id": "i_pFqvIVqkxi",
      "execution_count": 17,
      "outputs": [
        {
          "output_type": "stream",
          "name": "stdout",
          "text": [
            "Resume\n",
            "Name: Surbhi Singh Baghel\n",
            "Position: Developer\n",
            "Experience: 1 year Lorem Ipsum is simply dummy text of the printing and typesetting industry. Lorem Ipsum has been the industry's standard dummy text ever since the 1500s, when an unknown printer took a galley of type and scrambled it to make a type specimen book. It has survived not only five centuries, but also the leap into electronic typesetting, remaining essentially unchanged. It was popularised in the 1960s with the release of Letraset sheets containing Lorem Ipsum passages, and more recently with desktop publishing software like Aldus PageMaker including versions of Lorem Ipsum.\n",
            "Technologies: react-The first line of Lorem Ipsum, \"Lorem ipsum dolor sit amet..\", comes from a line in section 1.10.32., mongoDB-The first line of Lorem Ipsum, \"Lorem ipsum dolor sit amet..\", comes from a line in section 1.10.32., NextJs-The first line of Lorem Ipsum, \"Lorem ipsum dolor sit amet..\", comes from a line in section 1.10.32., NodeJs-The first line of Lorem Ipsum, \"Lorem ipsum dolor sit amet..\", comes from a line in section 1.10.32., Postgress-The first line of Lorem Ipsum, \"Lorem ipsum dolor sit amet..\", comes from a line in section 1.10.32.\n",
            "Education: btech\n",
            "Contact: 1234567890\n",
            "Address: Officer's Colony ,Vijaynagar, Indore (M.P) , India\n",
            "Project 1\n",
            "Title Description\n",
            "Project\n",
            "Name\n",
            "Project 1\n",
            "Role Senior developer \n",
            "Skills react, node, javascript, postgres, aws, mongoDB\n",
            "Duration 1 Year\n",
            "Description A Convolutional Neural Network (CNN) is a type of deep learning algorithm that is\n",
            "particularly well-suited for image recognition and processing tasks. It is made up of\n",
            "multiple layers, including convolutional layers, pooling layers, and fully connected\n",
            "layers. The architecture of CNNs is inspired by the visual processing in the human\n",
            "brain, and they are well-suited for capturing hierarchical patterns and spatial\n",
            "dependencies within images.\n",
            "Company\n",
            "Name\n",
            "Golden Eagle\n"
          ]
        }
      ]
    },
    {
      "cell_type": "code",
      "source": [
        "print(f\"{pages[0].metadata}\\n\")\n",
        "print(pages[0].page_content)"
      ],
      "metadata": {
        "colab": {
          "base_uri": "https://localhost:8080/"
        },
        "id": "gcgt5hMLjAyh",
        "outputId": "ec8438f4-5a72-4893-e5e5-13fe2e3d7ecb"
      },
      "id": "gcgt5hMLjAyh",
      "execution_count": 18,
      "outputs": [
        {
          "output_type": "stream",
          "name": "stdout",
          "text": [
            "{'producer': 'jsPDF 2.5.2', 'creator': 'PyPDF', 'creationdate': '2025-01-30T15:27:33+05:30', 'source': '/content/resume.pdf', 'total_pages': 2, 'page': 0, 'page_label': '1'}\n",
            "\n",
            "Resume\n",
            "Name: Surbhi Singh Baghel\n",
            "Position: Developer\n",
            "Experience: 1 year Lorem Ipsum is simply dummy text of the printing and typesetting industry. Lorem Ipsum has been the industry's standard dummy text ever since the 1500s, when an unknown printer took a galley of type and scrambled it to make a type specimen book. It has survived not only five centuries, but also the leap into electronic typesetting, remaining essentially unchanged. It was popularised in the 1960s with the release of Letraset sheets containing Lorem Ipsum passages, and more recently with desktop publishing software like Aldus PageMaker including versions of Lorem Ipsum.\n",
            "Technologies: react-The first line of Lorem Ipsum, \"Lorem ipsum dolor sit amet..\", comes from a line in section 1.10.32., mongoDB-The first line of Lorem Ipsum, \"Lorem ipsum dolor sit amet..\", comes from a line in section 1.10.32., NextJs-The first line of Lorem Ipsum, \"Lorem ipsum dolor sit amet..\", comes from a line in section 1.10.32., NodeJs-The first line of Lorem Ipsum, \"Lorem ipsum dolor sit amet..\", comes from a line in section 1.10.32., Postgress-The first line of Lorem Ipsum, \"Lorem ipsum dolor sit amet..\", comes from a line in section 1.10.32.\n",
            "Education: btech\n",
            "Contact: 1234567890\n",
            "Address: Officer's Colony ,Vijaynagar, Indore (M.P) , India\n",
            "Project 1\n",
            "Title Description\n",
            "Project\n",
            "Name\n",
            "Project 1\n",
            "Role Senior developer \n",
            "Skills react, node, javascript, postgres, aws, mongoDB\n",
            "Duration 1 Year\n",
            "Description A Convolutional Neural Network (CNN) is a type of deep learning algorithm that is\n",
            "particularly well-suited for image recognition and processing tasks. It is made up of\n",
            "multiple layers, including convolutional layers, pooling layers, and fully connected\n",
            "layers. The architecture of CNNs is inspired by the visual processing in the human\n",
            "brain, and they are well-suited for capturing hierarchical patterns and spatial\n",
            "dependencies within images.\n",
            "Company\n",
            "Name\n",
            "Golden Eagle\n"
          ]
        }
      ]
    },
    {
      "cell_type": "code",
      "source": [
        "#now i am going to learn how to load the json file\n",
        "from langchain_community.document_loaders import JSONLoader\n",
        "from pathlib import Path\n",
        "from pprint import pprint\n",
        "import json\n",
        "\n",
        "file_path = '/content/AllDestination.json'\n",
        "data = json.loads(Path(file_path).read_text())\n"
      ],
      "metadata": {
        "id": "yhGCJNHG4MeQ"
      },
      "id": "yhGCJNHG4MeQ",
      "execution_count": 23,
      "outputs": []
    },
    {
      "cell_type": "code",
      "source": [
        "pprint(data)"
      ],
      "metadata": {
        "id": "jWlnn4XO8njN",
        "outputId": "bfcd2e72-3a8d-4938-c0b1-d49fd5dbe6df",
        "colab": {
          "base_uri": "https://localhost:8080/"
        }
      },
      "id": "jWlnn4XO8njN",
      "execution_count": 30,
      "outputs": [
        {
          "output_type": "stream",
          "name": "stdout",
          "text": [
            "Pretty printing has been turned OFF\n"
          ]
        }
      ]
    },
    {
      "cell_type": "code",
      "source": [
        "data[0]"
      ],
      "metadata": {
        "id": "Uf4-jIAy8ZFX",
        "outputId": "5e1205ad-b606-45d9-fee8-94c8c20b15c2",
        "colab": {
          "base_uri": "https://localhost:8080/"
        }
      },
      "id": "Uf4-jIAy8ZFX",
      "execution_count": 25,
      "outputs": [
        {
          "output_type": "execute_result",
          "data": {
            "text/plain": [
              "{'id': 1,\n",
              " 'name': 'Nubra Valley in Ladakh',\n",
              " 'description': 'The barren rugged view of this valley, which lies between Kashmir and Tibet, will take your breath away. You can feast your eyes on charming monasteries, the Nubra and Shyok rivers, Bactrian camels, and sand dunes. A photographer’s delight, the valley is home to people of the Balti culture in Turtuk.',\n",
              " 'imageUrl': ['https://media.istockphoto.com/id/619727964/photo/double-hump-camel-walking-in-the-desert.jpg?s=612x612&w=0&k=20&c=HrruNt1Jk-ogdVOpKfb2hRa3D8BUcYw9XwG9ERAzU-Y=',\n",
              "  'https://media.istockphoto.com/id/528198351/photo/the-buddha-maitreya-statue-in-nubra-valley.jpg?s=612x612&w=0&k=20&c=A4HhaOfyUgdD7Cd6IigQ-8DsTOmFwmS_03kxpOJQCuY=',\n",
              "  'https://media.istockphoto.com/id/1383220272/photo/landscape-sandstone-mountains-with-river-and-green-valley-in-himalayas-nubra-valley-jammu-and.jpg?s=1024x1024&w=is&k=20&c=tJjRDT7h7yLi-QL03W4KVxrLog6PG6hey5UBiIbAvSU=',\n",
              "  'https://media.istockphoto.com/id/476448777/photo/buddhist-monks-making-sand-mandala.jpg?s=612x612&w=0&k=20&c=R4ZXK4NbsKJ84Zzxj3JXZlAI7Le90ZmYQmaGThYyTlU=',\n",
              "  'https://media.istockphoto.com/id/1439533379/photo/nubra-valley-to-pangong-tso-lake-ladakh.jpg?s=612x612&w=0&k=20&c=yWvJpMPbItw-CxBJ5OcnkSoHxapCiuTrY7F463bNRvM='],\n",
              " 'state': 'Ladakh',\n",
              " 'bestTimeToVisit': 'June to August',\n",
              " 'idealDuration': '2 days',\n",
              " 'category': 'popular-destination',\n",
              " 'categoryID': '1',\n",
              " 'howToReach': {'byAir': 'Kushok Bakula Rimpochee Airport in Leh is the nearest airport (162 km), from where you can take a bus or taxi.',\n",
              "  'byTrain': 'You can trakuchvel by train to the Leh railway station from Jammu or Kashmir, and then take a taxi or bus.',\n",
              "  'byRoad': 'You can take a taxi from Leh to reach the valley (160 km away).'}}"
            ]
          },
          "metadata": {},
          "execution_count": 25
        }
      ]
    },
    {
      "cell_type": "code",
      "source": [
        "#now let see using a JSON loader, how to upload a json file\n",
        "loader = JSONLoader(file_path=file_path, jq_schema = '.[].description', text_content=True)\n",
        "\n",
        "data = loader.load()"
      ],
      "metadata": {
        "id": "fmcK6gDx8u7x"
      },
      "id": "fmcK6gDx8u7x",
      "execution_count": 43,
      "outputs": []
    },
    {
      "cell_type": "code",
      "source": [
        "# pip install jq"
      ],
      "metadata": {
        "id": "YourxsJW-ETo"
      },
      "id": "YourxsJW-ETo",
      "execution_count": 38,
      "outputs": []
    },
    {
      "cell_type": "code",
      "source": [
        "pprint(data)"
      ],
      "metadata": {
        "id": "bxwm4Lwz-Nrz",
        "outputId": "4307faac-6e40-4897-f6f4-f54a6f29bf98",
        "colab": {
          "base_uri": "https://localhost:8080/"
        }
      },
      "id": "bxwm4Lwz-Nrz",
      "execution_count": 44,
      "outputs": [
        {
          "output_type": "stream",
          "name": "stdout",
          "text": [
            "[Document(metadata={'source': '/content/AllDestination.json', 'seq_num': 1}, page_content='The barren rugged view of this valley, which lies between Kashmir and Tibet, will take your breath away. You can feast your eyes on charming monasteries, the Nubra and Shyok rivers, Bactrian camels, and sand dunes. A photographer’s delight, the valley is home to people of the Balti culture in Turtuk.'),\n",
            " Document(metadata={'source': '/content/AllDestination.json', 'seq_num': 2}, page_content='Known as Mini Switzerland, Khajjiar offers lush meadows, snow-capped Himalayas, and dense forests. Adventure activities like trekking, zorbing, jungle safari, and paragliding are popular here.'),\n",
            " Document(metadata={'source': '/content/AllDestination.json', 'seq_num': 3}, page_content='A UNESCO World Heritage site known for its vibrant flowers, attracting trekkers and photographers.'),\n",
            " Document(metadata={'source': '/content/AllDestination.json', 'seq_num': 4}, page_content='The serene Dal Lake, also known as the Lake of Flowers, is a must-visit. A shikara ride on the lake is a unique experience.'),\n",
            " Document(metadata={'source': '/content/AllDestination.json', 'seq_num': 5}, page_content='Idyllic hill station in the Western Ghats, famous for tea plantations and rolling hills.'),\n",
            " Document(metadata={'source': '/content/AllDestination.json', 'seq_num': 6}, page_content='A majestic 4-tiered waterfall known for its powerful flow and trekking opportunities.'),\n",
            " Document(metadata={'source': '/content/AllDestination.json', 'seq_num': 7}, page_content='A remote valley offering stunning views of snow-capped mountains, pastures, hot springs, and flowers.'),\n",
            " Document(metadata={'source': '/content/AllDestination.json', 'seq_num': 8}, page_content='Known for its stunning blue lakes, passes with amazing views, verdant greenery, and tranquil monasteries.'),\n",
            " Document(metadata={'source': '/content/AllDestination.json', 'seq_num': 9}, page_content='A delta formed by the confluence of Ganga, Brahmaputra, and Meghna Rivers, home to the Royal Bengal Tiger and estuarine crocodiles.'),\n",
            " Document(metadata={'source': '/content/AllDestination.json', 'seq_num': 10}, page_content='A sprawling national park known for its wildlife, including leopards, tigers, and marsh crocodiles, as well as the Ranthambore Fort.'),\n",
            " Document(metadata={'source': '/content/AllDestination.json', 'seq_num': 11}, page_content='Find spiritual bliss in one of the oldest cities in the world, Varanasi. The Ghats here overlook the holy River Ganga and draw countless Hindu pilgrims every year. Funeral rites conducted at the Ghats are believed to offer Nirvana to souls. The uniquely charming atmosphere combines age-old beliefs, evening prayers with lamps and the scent of incense and camphor.'),\n",
            " Document(metadata={'source': '/content/AllDestination.json', 'seq_num': 12}, page_content='The quaint town of Dawki not only connects India and Bangladesh, but is also counted among the clean and beautiful places in India which are plastic-free. It is nestled in the green Jaintia Hills and is particularly famous for the Umngot River, which is crystal clear and breathtaking. The suspension bridge over the river is an attraction too.'),\n",
            " Document(metadata={'source': '/content/AllDestination.json', 'seq_num': 13}, page_content='Are you passionate about unique terrains? A visit to Bhedhaghat is a must then, owing to the craggy Marble Rocks you can witness here. Overlooking the River Narmada, this town’s allure lies in the boat rides it offers in between the marble mountains that reach up to 100 feet in height.'),\n",
            " Document(metadata={'source': '/content/AllDestination.json', 'seq_num': 14}, page_content='Widely known as the salt desert or salt marsh of India, the Rann has an unusual barren beauty, especially on a moonlit night. If you wish to enjoy the lively colors, sounds, and scents of the Rann Utsav, plan your trip in November.'),\n",
            " Document(metadata={'source': '/content/AllDestination.json', 'seq_num': 15}, page_content='Among the most beautiful places in India for couples during winter, Andaman and Nicobar Islands rank high for their serenity, coral reefs, seafood joints, and are perfect for those who love to swim, snorkel, or dive and explore marine life. Gorgeous blue-green waters, verdant forests, and unforgettable sunsets add to the romance.'),\n",
            " Document(metadata={'source': '/content/AllDestination.json', 'seq_num': 16}, page_content='Admire nature in all its glory in Gulmarg, a hill station in the Baramulla district. With the Pir Panjal Range in its backdrop, Gulmarg is great for indulging in skiing, golfing, gondola rides, and leisurely pony rides.'),\n",
            " Document(metadata={'source': '/content/AllDestination.json', 'seq_num': 17}, page_content='The color of gold, sand dunes in Jaisalmer are gently undulating, almost barren, and promise you an experience of a lifetime. A lazy camel ride over the crests and troughs can make for exclusive memories. You can enjoy vibrant cultural programs, bonfires, jeep safaris, or stare at the clear night sky.'),\n",
            " Document(metadata={'source': '/content/AllDestination.json', 'seq_num': 18}, page_content='This gorgeous green hill station is nestled in the Western Ghats and known for impressive viewpoints like Arthur’s Seat, Elephant’s Head Point, Babington Point, and Lodwick Point. You can enjoy a tranquil boat ride on Venna Lake when you are not trekking along the peaks and valleys.'),\n",
            " Document(metadata={'source': '/content/AllDestination.json', 'seq_num': 19}, page_content='This ancient village is a UNESCO World Heritage Site and one of those places in India to visit with family. History buffs will love the temple ruins that dot the landscape and date back to the Vijayanagara Empire. Apart from the stone chariot in front of the Vittala Temple site, take out time to admire the uneven terrain and rustic vibes.'),\n",
            " Document(metadata={'source': '/content/AllDestination.json', 'seq_num': 20}, page_content='If a hill station in the middle of a massive desert is not nature’s miracle, we don’t know what is! Perched on a rocky and high plateau, this place is a part of the Aravalli Range. Visit the wondrous Dilwara Temples for their intricate carvings in white marble and enjoy boat rides on Nakki Lake.'),\n",
            " Document(metadata={'source': '/content/AllDestination.json', 'seq_num': 21}, page_content='If white beaches, swaying coconut trees, stunning turquoise waters and colourful marine life excite you, this island is the perfect vacation destination. Water skiing, snorkelling, boat rides, kayaking, scuba diving and sailing are some of the adventure activities this tropical paradise offers.'),\n",
            " Document(metadata={'source': '/content/AllDestination.json', 'seq_num': 22}, page_content='Situated at the base of Mullayanagiri Range, this hill station is a verdant getaway known for its numerous coffee plantations. You can trek through forests and grasslands to reach the Mullayanagiri Peak or sight leopards, elephants and tigers at Bhadra Wildlife Sanctuary.'),\n",
            " Document(metadata={'source': '/content/AllDestination.json', 'seq_num': 23}, page_content='Surrounded by lush green hills of the Nilgiris, this picturesque lake is located in the silent valley and wows with its soothing blue-green waters. Fishing and boating are the popular activities you can indulge in here.'),\n",
            " Document(metadata={'source': '/content/AllDestination.json', 'seq_num': 24}, page_content='Quaint and tiny, Bir is a charming hamlet with the majestic Dhauladhar Range in its background. Home to many Tibetans, this town will steal your heart with its green expanses and monasteries. This place is famous for camping, paragliding, trekking and mountain biking. '),\n",
            " Document(metadata={'source': '/content/AllDestination.json', 'seq_num': 25}, page_content='The southernmost tip of India is one of the wonderful places you can add to your wanderlust list. And the beach Triveni Sangamam is popular for witnessing the confluence of three seas – the Arabian Ocean, Bay of Bengal and Indian Ocean. Apart from capturing the natural beauty of the waves on your camera, take a holy dip too. '),\n",
            " Document(metadata={'source': '/content/AllDestination.json', 'seq_num': 26}, page_content='Snow-clad Himalayas and dense oak and coniferous forests make Auli a stunning place for nature lovers to seek peace and relaxation. Enjoy skiing at an altitude of around 2900 m or soak in scenic views from the ropeway that connects Auli with Joshimath.'),\n",
            " Document(metadata={'source': '/content/AllDestination.json', 'seq_num': 27}, page_content='Among the most beautiful places to visit in India, the lush green and rustic district of Wayanad is a must mention. At a height of 2100m above sea level, it attracts trekkers and campers. From gorgeous flowers and waterfalls to exotic birds, animals and ancient caves, Wayanad has a lot to offer.'),\n",
            " Document(metadata={'source': '/content/AllDestination.json', 'seq_num': 28}, page_content='Located on the banks of the River Pennar, the Gandikota village is also a fort that was once a stronghold of Pemmasani Nayakas, the Golconda Sultanate and Kalyani Chalukyas. And the canyon is essentially the gorge created by the Pennar, offering amazing views. '),\n",
            " Document(metadata={'source': '/content/AllDestination.json', 'seq_num': 29}, page_content='At a staggering elevation of 5430 m, this beautiful blue lake will blow your mind. The chilly water and pristine snow-clad mountains all around add to the unique appeal of this place. It is also considered sacred by Hindus, Buddhists and Sikhs.'),\n",
            " Document(metadata={'source': '/content/AllDestination.json', 'seq_num': 30}, page_content='Apart from being the oldest lake in Udaipur, Lake Pichola is also one of the largest. The serene artificial fresh water of the lake reflects the Aravalli Mountains, which makes a boat ride worth it. Impressive palaces, Ghats and temples surround the lake, casting a magical light after sunset.')]\n"
          ]
        }
      ]
    },
    {
      "cell_type": "markdown",
      "source": [],
      "metadata": {
        "id": "76s7SGSmFee1"
      },
      "id": "76s7SGSmFee1"
    },
    {
      "cell_type": "code",
      "source": [
        "loader = JSONLoader(file_path=file_path, jq_schema = '.[].name', text_content=True)\n",
        "\n",
        "data = loader.load()"
      ],
      "metadata": {
        "id": "Weo6mmvxFZG7"
      },
      "id": "Weo6mmvxFZG7",
      "execution_count": 46,
      "outputs": []
    },
    {
      "cell_type": "code",
      "source": [
        "pprint(data)"
      ],
      "metadata": {
        "id": "d0_vX7mXFmsA",
        "outputId": "7e04c97e-5c41-4363-f005-18d29fff5e9c",
        "colab": {
          "base_uri": "https://localhost:8080/"
        }
      },
      "id": "d0_vX7mXFmsA",
      "execution_count": 47,
      "outputs": [
        {
          "output_type": "stream",
          "name": "stdout",
          "text": [
            "[Document(metadata={'source': '/content/AllDestination.json', 'seq_num': 1}, page_content='Nubra Valley in Ladakh'),\n",
            " Document(metadata={'source': '/content/AllDestination.json', 'seq_num': 2}, page_content='Khajjiar in Himachal Pradesh'),\n",
            " Document(metadata={'source': '/content/AllDestination.json', 'seq_num': 3}, page_content='Valley of Flowers in Uttarakhand'),\n",
            " Document(metadata={'source': '/content/AllDestination.json', 'seq_num': 4}, page_content='Dal Lake in Srinagar'),\n",
            " Document(metadata={'source': '/content/AllDestination.json', 'seq_num': 5}, page_content='Munnar in Kerala'),\n",
            " Document(metadata={'source': '/content/AllDestination.json', 'seq_num': 6}, page_content='Dudhsagar Falls in Goa'),\n",
            " Document(metadata={'source': '/content/AllDestination.json', 'seq_num': 7}, page_content='Yumthang Valley in Sikkim'),\n",
            " Document(metadata={'source': '/content/AllDestination.json', 'seq_num': 8}, page_content='Tawang in Arunachal Pradesh'),\n",
            " Document(metadata={'source': '/content/AllDestination.json', 'seq_num': 9}, page_content='Sundarbans Mangrove in West Bengal'),\n",
            " Document(metadata={'source': '/content/AllDestination.json', 'seq_num': 10}, page_content='Ranthambore National Park in Rajasthan'),\n",
            " Document(metadata={'source': '/content/AllDestination.json', 'seq_num': 11}, page_content='Varanasi Ghats in Uttar Pradesh'),\n",
            " Document(metadata={'source': '/content/AllDestination.json', 'seq_num': 12}, page_content='Dawki in Meghalaya'),\n",
            " Document(metadata={'source': '/content/AllDestination.json', 'seq_num': 13}, page_content='Bhedaghat in Madhya Pradesh'),\n",
            " Document(metadata={'source': '/content/AllDestination.json', 'seq_num': 14}, page_content='Rann of Kutch in Gujarat'),\n",
            " Document(metadata={'source': '/content/AllDestination.json', 'seq_num': 15}, page_content='Andaman and Nicobar Islands'),\n",
            " Document(metadata={'source': '/content/AllDestination.json', 'seq_num': 16}, page_content='Gulmarg in Jammu and Kashmir'),\n",
            " Document(metadata={'source': '/content/AllDestination.json', 'seq_num': 17}, page_content='Sand dunes in Jaisalmer'),\n",
            " Document(metadata={'source': '/content/AllDestination.json', 'seq_num': 18}, page_content='Mahabaleshwar in Maharashtra'),\n",
            " Document(metadata={'source': '/content/AllDestination.json', 'seq_num': 19}, page_content='Hampi in Karnataka '),\n",
            " Document(metadata={'source': '/content/AllDestination.json', 'seq_num': 20}, page_content='Mount Abu in Rajasthan '),\n",
            " Document(metadata={'source': '/content/AllDestination.json', 'seq_num': 21}, page_content='Agatti Island in Lakshadweep '),\n",
            " Document(metadata={'source': '/content/AllDestination.json', 'seq_num': 22}, page_content='Chikmagalur in Karnataka '),\n",
            " Document(metadata={'source': '/content/AllDestination.json', 'seq_num': 23}, page_content='Emerald Lake in Ooty'),\n",
            " Document(metadata={'source': '/content/AllDestination.json', 'seq_num': 24}, page_content=' Bir in Himachal Pradesh'),\n",
            " Document(metadata={'source': '/content/AllDestination.json', 'seq_num': 25}, page_content='Triveni Sangamam in Kanyakumari'),\n",
            " Document(metadata={'source': '/content/AllDestination.json', 'seq_num': 26}, page_content='Auli in Uttarakhand '),\n",
            " Document(metadata={'source': '/content/AllDestination.json', 'seq_num': 27}, page_content='Wayanad in Kerala'),\n",
            " Document(metadata={'source': '/content/AllDestination.json', 'seq_num': 28}, page_content='Gandikota Canyon in Andhra Pradesh'),\n",
            " Document(metadata={'source': '/content/AllDestination.json', 'seq_num': 29}, page_content='Gurudongmar Lake in Sikkim'),\n",
            " Document(metadata={'source': '/content/AllDestination.json', 'seq_num': 30}, page_content='Lake Pichola in Udaipur')]\n"
          ]
        }
      ]
    },
    {
      "cell_type": "code",
      "source": [
        "# loader = JSONLoader(file_path=file_path, jq_schema = '.', content_key='', text_content=True)\n",
        "\n",
        "# data = loader.load()"
      ],
      "metadata": {
        "id": "XqsajQZiF2sq"
      },
      "id": "XqsajQZiF2sq",
      "execution_count": 1,
      "outputs": []
    },
    {
      "cell_type": "markdown",
      "source": [],
      "metadata": {
        "id": "1jVry84jwrLE"
      },
      "id": "1jVry84jwrLE"
    },
    {
      "cell_type": "markdown",
      "source": [
        "Now I am going to learn how to split the Data of the Loaded\n",
        "Doc."
      ],
      "metadata": {
        "id": "RPkRZQfmwRP0"
      },
      "id": "RPkRZQfmwRP0"
    },
    {
      "cell_type": "code",
      "source": [
        "%pip install -qU langchain-text-splitters"
      ],
      "metadata": {
        "id": "kkqd9ub8OyRb",
        "outputId": "21abd2aa-b0e9-4225-90f4-f7f0fcbecf03",
        "colab": {
          "base_uri": "https://localhost:8080/"
        }
      },
      "id": "kkqd9ub8OyRb",
      "execution_count": 2,
      "outputs": [
        {
          "output_type": "stream",
          "name": "stdout",
          "text": [
            "\u001b[?25l   \u001b[90m━━━━━━━━━━━━━━━━━━━━━━━━━━━━━━━━━━━━━━━━\u001b[0m \u001b[32m0.0/413.2 kB\u001b[0m \u001b[31m?\u001b[0m eta \u001b[36m-:--:--\u001b[0m\r\u001b[2K   \u001b[91m━━━━━━━━━━━━━━━━━━━━━━━━━━━━━━━\u001b[0m\u001b[91m╸\u001b[0m\u001b[90m━━━━━━━━\u001b[0m \u001b[32m327.7/413.2 kB\u001b[0m \u001b[31m10.0 MB/s\u001b[0m eta \u001b[36m0:00:01\u001b[0m\r\u001b[2K   \u001b[90m━━━━━━━━━━━━━━━━━━━━━━━━━━━━━━━━━━━━━━━━\u001b[0m \u001b[32m413.2/413.2 kB\u001b[0m \u001b[31m8.8 MB/s\u001b[0m eta \u001b[36m0:00:00\u001b[0m\n",
            "\u001b[?25h"
          ]
        }
      ]
    },
    {
      "cell_type": "markdown",
      "source": [
        "How to: 1. R\n",
        "ecursively split text"
      ],
      "metadata": {
        "id": "-WrWK0Sy85q8"
      },
      "id": "-WrWK0Sy85q8"
    },
    {
      "cell_type": "code",
      "source": [],
      "metadata": {
        "id": "k5Idi_hg9DPm"
      },
      "id": "k5Idi_hg9DPm",
      "execution_count": null,
      "outputs": []
    },
    {
      "cell_type": "code",
      "source": [
        "from langchain_text_splitters import RecursiveCharacterTextSplitter\n",
        "\n",
        "with open('/content/lang_data.txt') as f:\n",
        "  data = f.read()\n",
        "\n",
        "text_splitter = RecursiveCharacterTextSplitter(\n",
        "    chunk_size = 100,\n",
        "    chunk_overlap = 30,\n",
        "    length_function = len,\n",
        "    is_separator_regex=False\n",
        ")\n",
        "\n",
        "texts = text_splitter.create_documents([data])\n",
        "# texts = text_splitter.split_text([data])\n",
        "print(\"here is my index 1 data:\\n\", texts[0])\n",
        "print(\"here is my index 2 data:\\n\", texts[1])\n",
        "print(\"here is my index 3 data:\\n\", texts[2])\n",
        "print(\"here is my index 4 data:\\n\", texts[3])\n",
        "print(\"here is my index 5 data:\\n\", texts[4])\n",
        "print(data)"
      ],
      "metadata": {
        "id": "_MYtaFtuwvoQ",
        "outputId": "a1ae364b-5b5a-413b-dd55-23f034fb3e86",
        "colab": {
          "base_uri": "https://localhost:8080/"
        }
      },
      "id": "_MYtaFtuwvoQ",
      "execution_count": 29,
      "outputs": [
        {
          "output_type": "stream",
          "name": "stdout",
          "text": [
            "here is my index 1 data:\n",
            " page_content='This is a excellent start to the film career of Mickey Rooney. His talents here shows that a long'\n",
            "here is my index 2 data:\n",
            " page_content='here shows that a long career is ahead for him. The car and truck chase is exciting for the 1937'\n",
            "here is my index 3 data:\n",
            " page_content='is exciting for the 1937 era. This start of the Andy Hardy series is an American treasure in my'\n",
            "here is my index 4 data:\n",
            " page_content='is an American treasure in my book. Spring Byington performance is excellent as usual. Please Mr'\n",
            "here is my index 5 data:\n",
            " page_content='excellent as usual. Please Mr Rooney or owners of the film rights, take a chance and get this'\n",
            "This is a excellent start to the film career of Mickey Rooney. His talents here shows that a long career is ahead for him. The car and truck chase is exciting for the 1937 era. This start of the Andy Hardy series is an American treasure in my book. Spring Byington performance is excellent as usual. Please Mr Rooney or owners of the film rights, take a chance and get this produced on DVD. I think it would be a winner.\n"
          ]
        }
      ]
    },
    {
      "cell_type": "code",
      "source": [
        "text_splitter.split_text(data)[:]"
      ],
      "metadata": {
        "id": "UztPa4U90rSG",
        "outputId": "63ac07c6-9933-4545-c442-ac1a205c1caa",
        "colab": {
          "base_uri": "https://localhost:8080/"
        }
      },
      "id": "UztPa4U90rSG",
      "execution_count": 19,
      "outputs": [
        {
          "output_type": "execute_result",
          "data": {
            "text/plain": [
              "['This is a excellent start to the film career of Mickey Rooney. His talents here shows that a long',\n",
              " 'here shows that a long career is ahead for him. The car and truck chase is exciting for the 1937',\n",
              " 'is exciting for the 1937 era. This start of the Andy Hardy series is an American treasure in my',\n",
              " 'is an American treasure in my book. Spring Byington performance is excellent as usual. Please Mr',\n",
              " 'excellent as usual. Please Mr Rooney or owners of the film rights, take a chance and get this',\n",
              " 'take a chance and get this produced on DVD. I think it would be a winner.']"
            ]
          },
          "metadata": {},
          "execution_count": 19
        }
      ]
    },
    {
      "cell_type": "code",
      "source": [
        "text_splitter.split_text(data)[:3]"
      ],
      "metadata": {
        "id": "mX3pQnkc1CIV",
        "outputId": "ac69fa39-decd-4765-ce48-42f521af185c",
        "colab": {
          "base_uri": "https://localhost:8080/"
        }
      },
      "id": "mX3pQnkc1CIV",
      "execution_count": 20,
      "outputs": [
        {
          "output_type": "execute_result",
          "data": {
            "text/plain": [
              "['This is a excellent start to the film career of Mickey Rooney. His talents here shows that a long',\n",
              " 'here shows that a long career is ahead for him. The car and truck chase is exciting for the 1937',\n",
              " 'is exciting for the 1937 era. This start of the Andy Hardy series is an American treasure in my']"
            ]
          },
          "metadata": {},
          "execution_count": 20
        }
      ]
    },
    {
      "cell_type": "code",
      "source": [
        "text_splitter.split_text(data)[:2]"
      ],
      "metadata": {
        "id": "CsZHgbGf1HW9",
        "outputId": "c76f040f-afce-48d8-85a3-38ac2b90a0b7",
        "colab": {
          "base_uri": "https://localhost:8080/"
        }
      },
      "id": "CsZHgbGf1HW9",
      "execution_count": 21,
      "outputs": [
        {
          "output_type": "execute_result",
          "data": {
            "text/plain": [
              "['This is a excellent start to the film career of Mickey Rooney. His talents here shows that a long',\n",
              " 'here shows that a long career is ahead for him. The car and truck chase is exciting for the 1937']"
            ]
          },
          "metadata": {},
          "execution_count": 21
        }
      ]
    },
    {
      "cell_type": "code",
      "source": [
        "text_splitter.split_text(data)[:1]"
      ],
      "metadata": {
        "id": "WFaHPjeV1NPI",
        "outputId": "a0479a25-345e-461e-e17b-6366f724c9c6",
        "colab": {
          "base_uri": "https://localhost:8080/"
        }
      },
      "id": "WFaHPjeV1NPI",
      "execution_count": 23,
      "outputs": [
        {
          "output_type": "execute_result",
          "data": {
            "text/plain": [
              "['This is a excellent start to the film career of Mickey Rooney. His talents here shows that a long']"
            ]
          },
          "metadata": {},
          "execution_count": 23
        }
      ]
    },
    {
      "cell_type": "markdown",
      "source": [
        "How to: 2. split by Character"
      ],
      "metadata": {
        "id": "RmLIBAxF9E4S"
      },
      "id": "RmLIBAxF9E4S"
    },
    {
      "cell_type": "code",
      "source": [],
      "metadata": {
        "id": "m7ik01w7GSys"
      },
      "id": "m7ik01w7GSys",
      "execution_count": 1,
      "outputs": []
    },
    {
      "cell_type": "code",
      "source": [
        "from langchain_text_splitters import CharacterTextSplitter\n",
        "\n",
        "with open('/content/lang_data.txt') as f:\n",
        "  data = f.read()\n",
        "\n",
        "text_splitter = CharacterTextSplitter(\n",
        "    separator=\" \",\n",
        "    chunk_size = 10,\n",
        "    chunk_overlap = 2,\n",
        "    length_function = len,\n",
        "    is_separator_regex=False\n",
        ")\n",
        "\n",
        "texts = text_splitter.create_documents([data])\n",
        "# texts = text_splitter.split_text([data])\n",
        "print(\"here is my index 1 data:\\n\", texts)\n",
        "# print(\"here is my index 2 data:\\n\", texts[1])\n",
        "# print(\"here is my index 3 data:\\n\", texts[2])\n",
        "# print(\"here is my index 4 data:\\n\", texts[3])\n",
        "# print(\"here is my index 5 data:\\n\", texts[4])\n",
        "# print(data)"
      ],
      "metadata": {
        "id": "PiC7uWpt1NwY",
        "outputId": "82ecc07d-75aa-4ac1-fea9-f97962a4898d",
        "colab": {
          "base_uri": "https://localhost:8080/"
        }
      },
      "id": "PiC7uWpt1NwY",
      "execution_count": 14,
      "outputs": [
        {
          "output_type": "stream",
          "name": "stderr",
          "text": [
            "WARNING:langchain_text_splitters.base:Created a chunk of size 11, which is longer than the specified 10\n"
          ]
        },
        {
          "output_type": "stream",
          "name": "stdout",
          "text": [
            "here is my index 1 data:\n",
            " [Document(metadata={}, page_content='This is a'), Document(metadata={}, page_content='excellent'), Document(metadata={}, page_content='start to'), Document(metadata={}, page_content='to the'), Document(metadata={}, page_content='film'), Document(metadata={}, page_content='career of'), Document(metadata={}, page_content='of Mickey'), Document(metadata={}, page_content='Rooney.'), Document(metadata={}, page_content='His'), Document(metadata={}, page_content='talents'), Document(metadata={}, page_content='here shows'), Document(metadata={}, page_content='that a'), Document(metadata={}, page_content='a long'), Document(metadata={}, page_content='career is'), Document(metadata={}, page_content='is ahead'), Document(metadata={}, page_content='for him.'), Document(metadata={}, page_content='The car'), Document(metadata={}, page_content='and truck'), Document(metadata={}, page_content='chase is'), Document(metadata={}, page_content='exciting'), Document(metadata={}, page_content='for the'), Document(metadata={}, page_content='1937 era.'), Document(metadata={}, page_content='This start'), Document(metadata={}, page_content='of the'), Document(metadata={}, page_content='Andy Hardy'), Document(metadata={}, page_content='series is'), Document(metadata={}, page_content='is an'), Document(metadata={}, page_content='American'), Document(metadata={}, page_content='treasure'), Document(metadata={}, page_content='in my'), Document(metadata={}, page_content='my book.'), Document(metadata={}, page_content='Spring'), Document(metadata={}, page_content='Byington'), Document(metadata={}, page_content='performance'), Document(metadata={}, page_content='is'), Document(metadata={}, page_content='excellent'), Document(metadata={}, page_content='as usual.'), Document(metadata={}, page_content='Please Mr'), Document(metadata={}, page_content='Mr Rooney'), Document(metadata={}, page_content='or owners'), Document(metadata={}, page_content='of the'), Document(metadata={}, page_content='film'), Document(metadata={}, page_content='rights,'), Document(metadata={}, page_content='take a'), Document(metadata={}, page_content='a chance'), Document(metadata={}, page_content='and get'), Document(metadata={}, page_content='this'), Document(metadata={}, page_content='produced'), Document(metadata={}, page_content='on DVD. I'), Document(metadata={}, page_content='I think it'), Document(metadata={}, page_content='it would'), Document(metadata={}, page_content='be a'), Document(metadata={}, page_content='a winner.')]\n"
          ]
        }
      ]
    },
    {
      "cell_type": "code",
      "source": [
        "from langchain_text_splitters import CharacterTextSplitter\n",
        "\n",
        "text = \"This is a paragraph with multiple sentences. It is a good example of how to split text by character.\"\n",
        "\n",
        "# Define a smaller chunk size to force splitting\n",
        "splitter = CharacterTextSplitter(\n",
        "    separator=\" \",  # Split by spaces\n",
        "    chunk_size=10,  # Force smaller chunks\n",
        "    chunk_overlap=2,  # Overlap words between chunks\n",
        "    length_function=len\n",
        ")\n",
        "\n",
        "chunks = splitter.split_text(text)\n",
        "\n",
        "# Print the resulting chunks\n",
        "print(chunks)\n"
      ],
      "metadata": {
        "id": "aC_GlJqWgRKL",
        "outputId": "dcc8b6eb-f109-4613-e562-be91e09a2639",
        "colab": {
          "base_uri": "https://localhost:8080/"
        }
      },
      "id": "aC_GlJqWgRKL",
      "execution_count": 10,
      "outputs": [
        {
          "output_type": "stream",
          "name": "stdout",
          "text": [
            "['This is a', 'paragraph', 'with', 'multiple', 'sentences.', 'It is a', 'a good', 'example of', 'of how to', 'to split', 'text by', 'character.']\n"
          ]
        }
      ]
    }
  ],
  "metadata": {
    "kernelspec": {
      "display_name": "Python 3",
      "name": "python3"
    },
    "language_info": {
      "name": "python"
    },
    "required_libs": [],
    "colab": {
      "provenance": []
    }
  },
  "nbformat": 4,
  "nbformat_minor": 5
}